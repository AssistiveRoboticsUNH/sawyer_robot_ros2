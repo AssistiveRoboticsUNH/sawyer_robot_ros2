{
 "cells": [
  {
   "cell_type": "code",
   "execution_count": null,
   "metadata": {},
   "outputs": [],
   "source": [
    "from robot_library_py import *\n",
    "import rclpy\n",
    "from rclpy.node import Node\n",
    "from sensor_msgs.msg import Joy, JointState\n",
    "from intera_core_msgs.msg import JointCommand\n",
    "\n",
    "from threading import Thread\n",
    "import time\n",
    "import numpy as np \n",
    "from std_msgs.msg import Bool\n",
    "import rotm2euler"
   ]
  },
  {
   "cell_type": "code",
   "execution_count": null,
   "metadata": {},
   "outputs": [],
   "source": [
    "class ROSInterface:\n",
    "    def __init__(self, node, robot):\n",
    "        \n",
    "        self.robot = robot\n",
    "        self.node = node\n",
    "        self.jointMap = {name: ind for ind, name in enumerate(self.robot.jointNames)} \n",
    "\n",
    "        self.latest_joint_states = None\n",
    "\n",
    "    def joint_states_callback(self, msg):\n",
    "        self.latest_joint_states = msg\n",
    "        q = self.robot.getJoints()\n",
    "        # print('joint_states:', q)\n",
    "        for ind, name in enumerate(msg.name):\n",
    "            if name in self.jointMap:\n",
    "                q[self.jointMap[name]] = msg.position[ind]\n",
    "        self.robot.setJoints(q)\n",
    "\n",
    "    def spin_thread(self):\n",
    "        self.node.create_subscription(JointState, 'robot/joint_states', self.joint_states_callback, 10) \n",
    "        rclpy.spin(self.node)"
   ]
  },
  {
   "cell_type": "code",
   "execution_count": null,
   "metadata": {},
   "outputs": [],
   "source": [
    "rclpy.init()\n",
    "robot = URDFModel('/home/ns/sawyer_robot_ros2/src/teleop_script/sawyer.urdf')\n",
    "jointMap = {name: ind for ind, name in enumerate(robot.jointNames)}\n",
    "\n",
    "node = Node('pub_dbg')\n",
    "q = robot.getJoints()\n",
    "ros_interface = ROSInterface(node, robot)\n",
    "cmd_pub = node.create_publisher(JointCommand, '/robot/limb/right/joint_command', 10)\n",
    "pass "
   ]
  },
  {
   "cell_type": "code",
   "execution_count": null,
   "metadata": {},
   "outputs": [],
   "source": [
    "# ros_interface.spin_thread()\n",
    "t1 = Thread(target=ros_interface.spin_thread)\n",
    "t1.start()"
   ]
  },
  {
   "cell_type": "code",
   "execution_count": null,
   "metadata": {},
   "outputs": [],
   "source": [
    "msg=ros_interface.latest_joint_states\n",
    "poss_prev=np.array(msg.position)\n",
    "\n",
    "msgs=[]\n",
    "motion_detected=False\n",
    "stop_count=0\n",
    "for i in range(1000000):\n",
    "    time.sleep(0.1)\n",
    "    msg=ros_interface.latest_joint_states\n",
    "    msgs.append(msg)\n",
    "    poss=np.array(msg.position)\n",
    "    d=np.linalg.norm(poss-poss_prev)\n",
    "    if np.allclose(poss_prev, poss):  # no motion\n",
    "        if motion_detected:\n",
    "            # print('motion stopped, d=', d)\n",
    "            stop_count+=1\n",
    "            if stop_count>1:\n",
    "                print('stop')\n",
    "                break\n",
    "    elif not motion_detected:\n",
    "        print('motion detected')\n",
    "        motion_detected=True\n",
    "        \n",
    "    poss_prev=poss.copy()\n",
    "\n",
    "print('done')\n",
    "len(msgs)"
   ]
  },
  {
   "cell_type": "code",
   "execution_count": null,
   "metadata": {},
   "outputs": [],
   "source": []
  },
  {
   "cell_type": "code",
   "execution_count": null,
   "metadata": {},
   "outputs": [],
   "source": []
  },
  {
   "cell_type": "code",
   "execution_count": null,
   "metadata": {},
   "outputs": [],
   "source": []
  },
  {
   "cell_type": "code",
   "execution_count": null,
   "metadata": {},
   "outputs": [],
   "source": []
  },
  {
   "cell_type": "code",
   "execution_count": null,
   "metadata": {},
   "outputs": [],
   "source": []
  },
  {
   "cell_type": "code",
   "execution_count": null,
   "metadata": {},
   "outputs": [],
   "source": []
  },
  {
   "cell_type": "code",
   "execution_count": null,
   "metadata": {},
   "outputs": [],
   "source": []
  },
  {
   "cell_type": "code",
   "execution_count": null,
   "metadata": {},
   "outputs": [],
   "source": []
  }
 ],
 "metadata": {
  "language_info": {
   "name": "python"
  },
  "orig_nbformat": 4
 },
 "nbformat": 4,
 "nbformat_minor": 2
}
