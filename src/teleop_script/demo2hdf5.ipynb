{
 "cells": [
  {
   "cell_type": "code",
   "execution_count": 8,
   "metadata": {},
   "outputs": [],
   "source": [
    "import pickle as pkl\n",
    "from robot_library_py import *\n",
    "import rclpy\n",
    "from rclpy.node import Node\n",
    "from sensor_msgs.msg import Joy, JointState\n",
    "from intera_core_msgs.msg import JointCommand\n",
    "\n",
    "from threading import Thread\n",
    "import time\n",
    "import numpy as np \n",
    "from std_msgs.msg import Bool\n",
    "import rotm2euler\n",
    "\n",
    "from utils_camera import MyRealSense, CVCamera\n",
    "import cv2\n",
    "from matplotlib import pyplot as plt\n",
    "import glob\n",
    "import h5py\n",
    "import os"
   ]
  },
  {
   "cell_type": "markdown",
   "metadata": {},
   "source": [
    "### Try: load all the .pkl files and save them into a single .h5 file"
   ]
  },
  {
   "cell_type": "code",
   "execution_count": 2,
   "metadata": {},
   "outputs": [],
   "source": [
    "dir='/media/ns/DatasetDrive/data_sawyer/spoon/'"
   ]
  },
  {
   "cell_type": "code",
   "execution_count": 3,
   "metadata": {},
   "outputs": [
    {
     "data": {
      "text/plain": [
       "23"
      ]
     },
     "execution_count": 3,
     "metadata": {},
     "output_type": "execute_result"
    }
   ],
   "source": [
    "files=glob.glob(dir+'*.pkl')\n",
    "len(files)"
   ]
  },
  {
   "cell_type": "code",
   "execution_count": 4,
   "metadata": {},
   "outputs": [],
   "source": [
    "files=files[:12]  # first 12 files"
   ]
  },
  {
   "cell_type": "code",
   "execution_count": 5,
   "metadata": {},
   "outputs": [],
   "source": [
    "def load_demo_pkl(demo_name):\n",
    "    with open(demo_name, 'rb') as f:\n",
    "        demo = pkl.load(f)\n",
    "    msgs=demo['msgs']\n",
    "    imgs=demo['imgs']\n",
    "    grips=demo['grips']\n",
    "    return msgs, imgs, grips"
   ]
  },
  {
   "cell_type": "code",
   "execution_count": 6,
   "metadata": {},
   "outputs": [
    {
     "name": "stdout",
     "output_type": "stream",
     "text": [
      "393 393 393\n"
     ]
    }
   ],
   "source": [
    "demo_name=files[0]\n",
    "msgs, imgs, grips = load_demo_pkl(demo_name)\n",
    "\n",
    "print(len(msgs), len(imgs), len(grips))"
   ]
  },
  {
   "cell_type": "code",
   "execution_count": 49,
   "metadata": {},
   "outputs": [],
   "source": [
    "def save_demo_hdf5(hdf5_file_name, demo_name, msgs, imgs, grips):\n",
    "    with h5py.File(hdf5_file_name, 'a') as hf:\n",
    "        group = hf.create_group(\"data/\"+demo_name)\n",
    "        # group.create_dataset('msgs', data=msgs)\n",
    "        group.create_dataset('imgs', data=imgs)\n",
    "        group.create_dataset('grips', data=grips)"
   ]
  },
  {
   "cell_type": "code",
   "execution_count": 43,
   "metadata": {},
   "outputs": [],
   "source": [
    "hdf5_file_name=dir+'demo.hdf5'"
   ]
  },
  {
   "cell_type": "code",
   "execution_count": 44,
   "metadata": {},
   "outputs": [],
   "source": [
    "demo_name=\"demo_1\"\n",
    "msgs, imgs, grips = load_demo_pkl(files[0])\n",
    "save_demo_hdf5(hdf5_file_name, demo_name, msgs, imgs, grips)"
   ]
  },
  {
   "cell_type": "code",
   "execution_count": 50,
   "metadata": {},
   "outputs": [],
   "source": [
    "demo_name=\"demo_2\"\n",
    " \n",
    "msgs, imgs, grips = load_demo_pkl(files[1])\n",
    "save_demo_hdf5(hdf5_file_name, demo_name, msgs, imgs, grips)"
   ]
  },
  {
   "cell_type": "code",
   "execution_count": 24,
   "metadata": {},
   "outputs": [
    {
     "data": {
      "text/plain": [
       "sensor_msgs.msg.JointState(header=std_msgs.msg.Header(stamp=builtin_interfaces.msg.Time(sec=1694745822, nanosec=1027936), frame_id=''), name=['head_pan', 'right_j0', 'right_j1', 'right_j2', 'right_j3', 'right_j4', 'right_j5', 'right_j6', 'torso_t0'], position=[-1.0244140625, 0.357806640625, 0.21978515625, -1.8408271484375, 1.0465771484375, -1.2126650390625, -1.7039912109375, -3.5998935546875, 0.0], velocity=[-0.001, -0.001, -0.001, -0.001, -0.001, -0.001, -0.001, -0.001, 0.0], effort=[-0.012, -0.848, -34.756, -9.344, 4.276, -3.084, 0.512, 0.264, 0.0])"
      ]
     },
     "execution_count": 24,
     "metadata": {},
     "output_type": "execute_result"
    }
   ],
   "source": [
    "msgs[0]"
   ]
  },
  {
   "cell_type": "code",
   "execution_count": 123,
   "metadata": {},
   "outputs": [
    {
     "data": {
      "text/plain": [
       "<KeysViewHDF5 ['data', 'obs']>"
      ]
     },
     "execution_count": 123,
     "metadata": {},
     "output_type": "execute_result"
    }
   ],
   "source": [
    "# file_path = 'multiple_demonstrations.h5'\n",
    "file_path = hdf5_file_name\n",
    "file=h5py.File(file_path, 'r') \n",
    "file.keys()"
   ]
  },
  {
   "cell_type": "code",
   "execution_count": 52,
   "metadata": {},
   "outputs": [
    {
     "data": {
      "text/plain": [
       "<KeysViewHDF5 ['data']>"
      ]
     },
     "execution_count": 52,
     "metadata": {},
     "output_type": "execute_result"
    }
   ],
   "source": []
  },
  {
   "cell_type": "code",
   "execution_count": 53,
   "metadata": {},
   "outputs": [
    {
     "data": {
      "text/plain": [
       "<KeysViewHDF5 ['demo_1', 'demo_2']>"
      ]
     },
     "execution_count": 53,
     "metadata": {},
     "output_type": "execute_result"
    }
   ],
   "source": [
    "file['data'].keys()"
   ]
  },
  {
   "cell_type": "code",
   "execution_count": 124,
   "metadata": {},
   "outputs": [],
   "source": [
    "file.close()"
   ]
  },
  {
   "cell_type": "code",
   "execution_count": null,
   "metadata": {},
   "outputs": [],
   "source": []
  },
  {
   "cell_type": "code",
   "execution_count": 29,
   "metadata": {},
   "outputs": [
    {
     "name": "stdout",
     "output_type": "stream",
     "text": [
      "sawyer\n",
      "link: 0\n",
      "\tcog: 0 0 0\n",
      "\tinertia: 1 1 1 0 0 0\n",
      "\tmass: 1\n",
      "\tname: base\n",
      "link: 1\n",
      "\tcog: 0 0 0\n",
      "\tinertia: 1e-08 1e-08 1e-08     0     0     0\n",
      "\tmass: 0.0001\n",
      "\tname: torso\n",
      "link: 2\n",
      "\tcog:    0    0 -0.5\n",
      "\tinertia:    5.06359    6.08689    4.96192 0.00105311   0.801996 0.00103417\n",
      "\tmass: 60.864\n",
      "\tname: pedestal\n",
      "link: 3\n",
      "\tcog: 0 0 0\n",
      "\tinertia: 1 1 1 0 0 0\n",
      "\tmass: 1\n",
      "\tname: controller_box\n",
      "link: 4\n",
      "\tcog: 0 0 0\n",
      "\tinertia: 1 1 1 0 0 0\n",
      "\tmass: 1\n",
      "\tname: pedestal_feet\n",
      "link: 5\n",
      "\tcog:  -0.0006241 -2.8025e-05    0.065404\n",
      "\tinertia:   0.0067599   0.0067877   0.0074031  1.5888e-05 -6.1904e-07 -4.2024e-05\n",
      "\tmass: 2.0687\n",
      "\tname: right_arm_base_link\n",
      "link: 6\n",
      "\tcog: 0.024366 0.010969  0.14363\n",
      "\tinertia:  0.053314  0.057902  0.023659 0.0080179  0.011734 0.0047093\n",
      "\tmass: 5.3213\n",
      "\tname: right_l0\n",
      "link: 7\n",
      "\tcog:   0.0053207 -2.6549e-05      0.1021\n",
      "\tinertia:    0.011833   0.0082709   0.0049661  4.2124e-07  4.9425e-05 -4.4669e-06\n",
      "\tmass: 1.5795\n",
      "\tname: head\n",
      "link: 8\n",
      "\tcog: 0 0 0\n",
      "\tinertia: 1e-08 1e-08 1e-08     0     0     0\n",
      "\tmass: 0.0001\n",
      "\tname: right_torso_itb\n",
      "link: 9\n",
      "\tcog: -0.0030849  -0.026811   0.092521\n",
      "\tinertia:    0.022398    0.014613    0.017295  -0.0060875 -0.00029362 -0.00023986\n",
      "\tmass: 4.505\n",
      "\tname: right_l1\n",
      "link: 10\n",
      "\tcog: -0.00016044   -0.014967     0.13582\n",
      "\tinertia:   0.025506     0.0253  0.0034179 -0.0033204 1.4955e-05 4.4101e-06\n",
      "\tmass: 1.745\n",
      "\tname: right_l2\n",
      "link: 11\n",
      "\tcog: -0.0048135    -0.0281  -0.084154\n",
      "\tinertia:     0.01016   0.0065685   0.0069078   0.0030316  0.00026624 -9.7452e-06\n",
      "\tmass: 2.5097\n",
      "\tname: right_l3\n",
      "link: 12\n",
      "\tcog: -0.0018844  0.0069001     0.1341\n",
      "\tinertia:   0.013557   0.013555  0.0013658  0.0010561 0.00013523 1.8109e-05\n",
      "\tmass: 1.1136\n",
      "\tname: right_l4\n",
      "link: 13\n",
      "\tcog: 0 0 0\n",
      "\tinertia: 1e-08 1e-08 1e-08     0     0     0\n",
      "\tmass: 0.0001\n",
      "\tname: right_arm_itb\n",
      "link: 14\n",
      "\tcog: 0.0061133 -0.023697  0.076416\n",
      "\tinertia:  0.0047328  0.0029676  0.0031762 -0.0011557 4.6269e-05 0.00011526\n",
      "\tmass: 1.5625\n",
      "\tname: right_l5\n",
      "link: 15\n",
      "\tcog: 0 0 0\n",
      "\tinertia: 1 1 1 0 0 0\n",
      "\tmass: 0\n",
      "\tname: right_hand_camera\n",
      "link: 16\n",
      "\tcog: 0 0 0\n",
      "\tinertia: 1 1 1 0 0 0\n",
      "\tmass: 1\n",
      "\tname: right_wrist\n",
      "link: 17\n",
      "\tcog: -8.0726e-06   0.0085838  -0.0049566\n",
      "\tinertia:  0.00031105  0.00021549  0.00035976 -8.4533e-06 -3.7074e-07  1.4771e-06\n",
      "\tmass: 0.3292\n",
      "\tname: right_l6\n",
      "link: 18\n",
      "\tcog: 1e-08 1e-08 1e-08\n",
      "\tinertia: 1e-08 1e-08 1e-08 1e-08 1e-08 1e-08\n",
      "\tmass: 1e-08\n",
      "\tname: right_hand\n",
      "link: 19\n",
      "\tcog: 1e-08 1e-08 1e-08\n",
      "\tinertia: 1e-08 1e-08 1e-08 1e-08 1e-08 1e-08\n",
      "\tmass: 1e-08\n",
      "\tname: right_l1_2\n",
      "link: 20\n",
      "\tcog: 1e-08 1e-08 1e-08\n",
      "\tinertia: 1e-08 1e-08 1e-08 1e-08 1e-08 1e-08\n",
      "\tmass: 1e-08\n",
      "\tname: right_l2_2\n",
      "link: 21\n",
      "\tcog: 1e-08 1e-08 1e-08\n",
      "\tinertia: 1e-08 1e-08 1e-08 1e-08 1e-08 1e-08\n",
      "\tmass: 1e-08\n",
      "\tname: right_l4_2\n",
      "link: 22\n",
      "\tcog: 0 0 0\n",
      "\tinertia: 1e-08 1e-08 1e-08     0     0     0\n",
      "\tmass: 0.0001\n",
      "\tname: screen\n",
      "link: 23\n",
      "\tcog: 0 0 0\n",
      "\tinertia: 1 1 1 0 0 0\n",
      "\tmass: 1\n",
      "\tname: head_camera\n",
      "link: 24\n",
      "\tcog: 0 0 0\n",
      "\tinertia: 1 1 1 0 0 0\n",
      "\tmass: 1\n",
      "\tname: camera_base_link\n",
      "link: 25\n",
      "\tcog: 0 0 0\n",
      "\tinertia: 1 1 1 0 0 0\n",
      "\tmass: 1\n",
      "\tname: camera_bottom_screw_frame\n",
      "link: 26\n",
      "\tcog: 0 0 0\n",
      "\tinertia: 0.00388124 0.00049894 0.00387926          0          0          0\n",
      "\tmass: 0.072\n",
      "\tname: camera_link\n",
      "link: 27\n",
      "\tcog:  0.0028 -0.0004  0.0343\n",
      "\tinertia: 1e-08 1e-08 1e-08     0     0     0\n",
      "\tmass: 0.47\n",
      "\tname: right_gripper_base\n",
      "link: 28\n",
      "\tcog: 0 0 0\n",
      "\tinertia: 1.1e-09 1.1e-09 1.1e-09       0       0       0\n",
      "\tmass: 2e-06\n",
      "\tname: right_electric_gripper_base\n",
      "link: 29\n",
      "\tcog: 0 0 0\n",
      "\tinertia:  6.9922e-05  6.8188e-05  0.00012392 -1.6118e-08 -1.7042e-06  6.1026e-08\n",
      "\tmass: 0\n",
      "\tname: right_connector_plate_base\n",
      "link: 30\n",
      "\tcog: 0 0 0\n",
      "\tinertia: 1 1 1 0 0 0\n",
      "\tmass: 1\n",
      "\tname: right_connector_plate_mount\n",
      "link: 31\n",
      "\tcog: 0 0 0\n",
      "\tinertia: 0.01 0.01 0.01    0    0    0\n",
      "\tmass: 0.001\n",
      "\tname: right_gripper_l_finger\n",
      "link: 32\n",
      "\tcog: 0 0 0\n",
      "\tinertia: 0.01 0.01 0.01    0    0    0\n",
      "\tmass: 0.001\n",
      "\tname: right_gripper_l_finger_tip\n",
      "link: 33\n",
      "\tcog: 0 0 0\n",
      "\tinertia: 0.01 0.01 0.01    0    0    0\n",
      "\tmass: 0.001\n",
      "\tname: right_gripper_r_finger\n",
      "link: 34\n",
      "\tcog: 0 0 0\n",
      "\tinertia: 0.01 0.01 0.01    0    0    0\n",
      "\tmass: 0.001\n",
      "\tname: right_gripper_r_finger_tip\n",
      "link: 35\n",
      "\tcog: 0 0 0\n",
      "\tinertia: 1.1e-09 1.1e-09 1.1e-09       0       0       0\n",
      "\tmass: 2e-06\n",
      "\tname: right_gripper_tip\n",
      "joint: 0\n",
      "\tparent: base\n",
      "\tchild: controller_box\n",
      "\torigin.translation: 0 0 0\n",
      "\torigin.rotation:  0 -0  0\n",
      "\ttype: fixed\n",
      "\tname: controller_box_fixed\n",
      "joint: 1\n",
      "\tparent: base\n",
      "\tchild: pedestal_feet\n",
      "\torigin.translation: 0 0 0\n",
      "\torigin.rotation:  0 -0  0\n",
      "\ttype: fixed\n",
      "\tname: pedestal_feet_fixed\n",
      "joint: 2\n",
      "\tparent: base\n",
      "\tchild: pedestal\n",
      "\torigin.translation: 0 0 0\n",
      "\torigin.rotation:  0 -0  0\n",
      "\ttype: fixed\n",
      "\tname: pedestal_fixed\n",
      "joint: 3\n",
      "\tparent: base\n",
      "\tchild: right_arm_base_link\n",
      "\torigin.translation: 0 0 0\n",
      "\torigin.rotation:  0 -0  0\n",
      "\ttype: fixed\n",
      "\tname: right_arm_mount\n",
      "joint: 4\n",
      "\tparent: base\n",
      "\tchild: torso\n",
      "\torigin.translation: 0 0 0\n",
      "\torigin.rotation:  0 -0  0\n",
      "\ttype: fixed\n",
      "\tname: torso_t0\n",
      "joint: 5\n",
      "\tparent: right_arm_base_link\n",
      "\tchild: right_l0\n",
      "\torigin.translation:    0    0 0.08\n",
      "\torigin.rotation:  0 -0  0\n",
      "\ttype: revolute\n",
      "\tmax: 174.769\n",
      "\tmin: -174.769\n",
      "\tspeed: 99.6947\n",
      "\taxis: 0 0 1\n",
      "\tname: right_j0\n",
      "joint: 6\n",
      "\tparent: right_l0\n",
      "\tchild: head\n",
      "\torigin.translation:      0      0 0.2965\n",
      "\torigin.rotation:  0 -0  0\n",
      "\ttype: revolute\n",
      "\tmax: 51.9329\n",
      "\tmin: -291.933\n",
      "\tspeed: 103.132\n",
      "\taxis: 0 0 1\n",
      "\tname: head_pan\n",
      "joint: 7\n",
      "\tparent: right_l0\n",
      "\tchild: right_torso_itb\n",
      "\torigin.translation: -0.055      0   0.22\n",
      "\torigin.rotation:  -0 -90   0\n",
      "\ttype: fixed\n",
      "\tname: right_torso_itb\n",
      "joint: 8\n",
      "\tparent: right_l0\n",
      "\tchild: right_l1\n",
      "\torigin.translation: 0.081  0.05 0.237\n",
      "\torigin.rotation: -90  90   0\n",
      "\ttype: revolute\n",
      "\tmax: 130.268\n",
      "\tmin: -218.268\n",
      "\tspeed: 76.0888\n",
      "\taxis: 0 0 1\n",
      "\tname: right_j1\n",
      "joint: 9\n",
      "\tparent: right_l1\n",
      "\tchild: right_l2\n",
      "\torigin.translation:      0  -0.14 0.1425\n",
      "\torigin.rotation: 90 -0  0\n",
      "\ttype: revolute\n",
      "\tmax: 174.328\n",
      "\tmin: -174.328\n",
      "\tspeed: 112.128\n",
      "\taxis: 0 0 1\n",
      "\tname: right_j2\n",
      "joint: 10\n",
      "\tparent: right_l2\n",
      "\tchild: right_l3\n",
      "\torigin.translation:      0 -0.042   0.26\n",
      "\torigin.rotation: -90  -0   0\n",
      "\ttype: revolute\n",
      "\tmax: 174.403\n",
      "\tmin: -174.403\n",
      "\tspeed: 112.128\n",
      "\taxis: 0 0 1\n",
      "\tname: right_j3\n",
      "joint: 11\n",
      "\tparent: right_l3\n",
      "\tchild: right_l4\n",
      "\torigin.translation:       0  -0.125 -0.1265\n",
      "\torigin.rotation: 90 -0  0\n",
      "\ttype: revolute\n",
      "\tmax: 170.518\n",
      "\tmin: -170.518\n",
      "\tspeed: 199.676\n",
      "\taxis: 0 0 1\n",
      "\tname: right_j4\n",
      "joint: 12\n",
      "\tparent: right_l4\n",
      "\tchild: right_arm_itb\n",
      "\torigin.translation: -0.055      0  0.075\n",
      "\torigin.rotation:  -0 -90   0\n",
      "\ttype: fixed\n",
      "\tname: right_arm_itb\n",
      "joint: 13\n",
      "\tparent: right_l4\n",
      "\tchild: right_l5\n",
      "\torigin.translation:     0 0.031 0.275\n",
      "\torigin.rotation: -90  -0   0\n",
      "\ttype: revolute\n",
      "\tmax: 170.518\n",
      "\tmin: -170.518\n",
      "\tspeed: 199.676\n",
      "\taxis: 0 0 1\n",
      "\tname: right_j5\n",
      "joint: 14\n",
      "\tparent: right_l5\n",
      "\tchild: right_hand_camera\n",
      "\torigin.translation: 0.039552   -0.033   0.0695\n",
      "\torigin.rotation:  0 90  0\n",
      "\ttype: fixed\n",
      "\tname: right_hand_camera\n",
      "joint: 15\n",
      "\tparent: right_l5\n",
      "\tchild: right_wrist\n",
      "\torigin.translation:       0       0 0.10541\n",
      "\torigin.rotation: 90 -0  0\n",
      "\ttype: fixed\n",
      "\tname: right_wrist\n",
      "joint: 16\n",
      "\tparent: right_l5\n",
      "\tchild: right_l6\n",
      "\torigin.translation:      0  -0.11 0.1053\n",
      "\torigin.rotation:          90        -170 0.000420918\n",
      "\ttype: revolute\n",
      "\tmax: 270.001\n",
      "\tmin: -270.001\n",
      "\tspeed: 260.409\n",
      "\taxis: 0 0 1\n",
      "\tname: right_j6\n",
      "joint: 17\n",
      "\tparent: right_l6\n",
      "\tchild: right_hand\n",
      "\torigin.translation:      0      0 0.0245\n",
      "\torigin.rotation:  0 -0 90\n",
      "\ttype: fixed\n",
      "\tname: right_hand\n",
      "joint: 18\n",
      "\tparent: right_l1\n",
      "\tchild: right_l1_2\n",
      "\torigin.translation: 0 0 0\n",
      "\torigin.rotation:  0 -0  0\n",
      "\ttype: fixed\n",
      "\tname: right_j1_2\n",
      "joint: 19\n",
      "\tparent: right_l2\n",
      "\tchild: right_l2_2\n",
      "\torigin.translation: 0 0 0\n",
      "\torigin.rotation:  0 -0  0\n",
      "\ttype: fixed\n",
      "\tname: right_j2_2\n",
      "joint: 20\n",
      "\tparent: right_l4\n",
      "\tchild: right_l4_2\n",
      "\torigin.translation: 0 0 0\n",
      "\torigin.rotation:  0 -0  0\n",
      "\ttype: fixed\n",
      "\tname: right_j4_2\n",
      "joint: 21\n",
      "\tparent: head\n",
      "\tchild: screen\n",
      "\torigin.translation:  0.03     0 0.105\n",
      "\torigin.rotation: 90 -0 90\n",
      "\ttype: fixed\n",
      "\tname: display_joint\n",
      "joint: 22\n",
      "\tparent: head\n",
      "\tchild: head_camera\n",
      "\torigin.translation: 0.0228027         0  0.216572\n",
      "\torigin.rotation: 58.0001    -180      90\n",
      "\ttype: fixed\n",
      "\tname: head_camera\n",
      "joint: 23\n",
      "\tparent: right_l6\n",
      "\tchild: camera_base_link\n",
      "\torigin.translation:        0 0.038279 0.028525\n",
      "\torigin.rotation:  90 -90 180\n",
      "\ttype: fixed\n",
      "\tname: right_l6_to_camera\n",
      "joint: 24\n",
      "\tparent: camera_base_link\n",
      "\tchild: camera_bottom_screw_frame\n",
      "\torigin.translation: 0 0 0\n",
      "\torigin.rotation:  0 -0  0\n",
      "\ttype: fixed\n",
      "\tname: camera_joint\n",
      "joint: 25\n",
      "\tparent: camera_bottom_screw_frame\n",
      "\tchild: camera_link\n",
      "\torigin.translation: 0.0106 0.0175 0.0125\n",
      "\torigin.rotation:  0 -0  0\n",
      "\ttype: fixed\n",
      "\tname: camera_link_joint\n",
      "joint: 26\n",
      "\tparent: right_gripper_base\n",
      "\tchild: right_connector_plate_base\n",
      "\torigin.translation:      0      0 0.0018\n",
      "\torigin.rotation:  0 -0  0\n",
      "\ttype: fixed\n",
      "\tname: right_connector_plate_base_joint\n",
      "joint: 27\n",
      "\tparent: right_connector_plate_base\n",
      "\tchild: right_connector_plate_mount\n",
      "\torigin.translation:      0      0 0.0176\n",
      "\torigin.rotation:  0 -0  0\n",
      "\ttype: fixed\n",
      "\tname: right_connector_plate_mount_joint\n",
      "joint: 28\n",
      "\tparent: right_connector_plate_mount\n",
      "\tchild: right_electric_gripper_base\n",
      "\torigin.translation: 0 0 0\n",
      "\torigin.rotation:  0 -0  0\n",
      "\ttype: fixed\n",
      "\tname: right_electric_gripper_base_joint\n",
      "joint: 29\n",
      "\tparent: right_gripper_l_finger\n",
      "\tchild: right_gripper_l_finger_tip\n",
      "\torigin.translation:       0 0.01725   0.075\n",
      "\torigin.rotation:  0 -0  0\n",
      "\ttype: fixed\n",
      "\tname: right_gripper_l_finger_tip_joint\n",
      "joint: 30\n",
      "\tparent: right_gripper_r_finger\n",
      "\tchild: right_gripper_r_finger_tip\n",
      "\torigin.translation:        0 -0.01725    0.075\n",
      "\torigin.rotation:  0 -0  0\n",
      "\ttype: fixed\n",
      "\tname: right_gripper_r_finger_tip_joint\n",
      "joint: 31\n",
      "\tparent: right_hand\n",
      "\tchild: right_gripper_base\n",
      "\torigin.translation:      0      0 -0.005\n",
      "\torigin.rotation:  0 -0  0\n",
      "\ttype: fixed\n",
      "\tname: right_gripper_base_joint\n",
      "joint: 32\n",
      "\tparent: right_gripper_base\n",
      "\tchild: right_gripper_tip\n",
      "\torigin.translation:       0       0 0.14062\n",
      "\torigin.rotation:  0 -0  0\n",
      "\ttype: fixed\n",
      "\tname: right_gripper_tip_joint\n",
      "joint: 33\n",
      "\tparent: right_electric_gripper_base\n",
      "\tchild: right_gripper_l_finger\n",
      "\torigin.translation:   0.003 -0.0015 0.04552\n",
      "\torigin.rotation:  0 -0  0\n",
      "\ttype: prismatic\n",
      "\tmax: 0.020833\n",
      "\tmin: 0\n",
      "\tspeed: 5\n",
      "\taxis: 0 1 0\n",
      "\tname: right_gripper_l_finger_joint\n",
      "joint: 34\n",
      "\tparent: right_electric_gripper_base\n",
      "\tchild: right_gripper_r_finger\n",
      "\torigin.translation:   0.003  0.0015 0.04552\n",
      "\torigin.rotation:  0 -0  0\n",
      "\ttype: prismatic\n",
      "\tmax: 0\n",
      "\tmin: -0.020833\n",
      "\tspeed: 5\n",
      "\taxis: 0 1 0\n",
      "\tname: right_gripper_r_finger_joint\n",
      "root: base\n"
     ]
    }
   ],
   "source": [
    "urdf_path = os.getcwd() +'/'+'sawyer.urdf'  #'/home/carl/sawyer_robot_ros2/src/teleop_script/sawyer.urdf'\n",
    "robot = URDFModel(urdf_path)\n",
    "jointMap = {name: ind for ind, name in enumerate(robot.jointNames)}\n",
    "\n",
    "joint_names=['right_j0', 'right_j1', 'right_j2', 'right_j3', 'right_j4', 'right_j5', 'right_j6']\n",
    "joint_inds=[jointMap[name] for name in joint_names]"
   ]
  },
  {
   "cell_type": "code",
   "execution_count": null,
   "metadata": {},
   "outputs": [],
   "source": []
  },
  {
   "cell_type": "code",
   "execution_count": 10,
   "metadata": {},
   "outputs": [],
   "source": [
    "def get_ee(jointmsg):\n",
    "    msg=jointmsg    \n",
    "    q =  robot.getJoints() \n",
    "    for ind, name in enumerate(msg.name):\n",
    "        if name in jointMap:\n",
    "            q[jointMap[name]] = msg.position[ind]\n",
    "    robot.setJoints(q)\n",
    "    \n",
    "    # T=robot.getBodyTransform('right_l6');\n",
    "    T=robot.getBodyTransform('camera_link');\n",
    "    xyz=T[0:3,3]\n",
    "    e1 = rotm2euler.rotationMatrixToEulerAngles(T[0:3, 0:3])\n",
    "    ee6=np.concatenate([xyz, e1])\n",
    "    return ee6"
   ]
  },
  {
   "cell_type": "code",
   "execution_count": 42,
   "metadata": {},
   "outputs": [],
   "source": [
    "# msg=msgs[0]\n",
    "# grip=grips[0]\n",
    "# img=imgs[0]"
   ]
  },
  {
   "cell_type": "code",
   "execution_count": null,
   "metadata": {},
   "outputs": [],
   "source": []
  },
  {
   "cell_type": "code",
   "execution_count": null,
   "metadata": {},
   "outputs": [],
   "source": []
  },
  {
   "cell_type": "code",
   "execution_count": null,
   "metadata": {},
   "outputs": [],
   "source": []
  },
  {
   "cell_type": "code",
   "execution_count": 51,
   "metadata": {},
   "outputs": [
    {
     "data": {
      "text/plain": [
       "((6,), (7,), (7,), 1694745822.0010278)"
      ]
     },
     "execution_count": 51,
     "metadata": {},
     "output_type": "execute_result"
    }
   ],
   "source": [
    "# ee=get_ee(msg)\n",
    "\n",
    "# pos =np.array( [msg.position[ind] for ind in joint_inds] )\n",
    "# vel =np.array( [msg.velocity[ind] for ind in joint_inds] )\n",
    "# t=msg.header.stamp.sec+msg.header.stamp.nanosec*1e-9\n",
    "\n",
    "# ee.shape, pos.shape, vel.shape ,t"
   ]
  },
  {
   "cell_type": "code",
   "execution_count": 71,
   "metadata": {},
   "outputs": [],
   "source": [
    "msgs, imgs, grips = load_demo_pkl(demo_name)"
   ]
  },
  {
   "cell_type": "code",
   "execution_count": 108,
   "metadata": {},
   "outputs": [],
   "source": [
    "def extract_data(msgs, imgs, grips):\n",
    "    '''\n",
    "    msgs: list of joint msgs\n",
    "    imgs: list of images\n",
    "    grips: list of gripper states\n",
    "\n",
    "    msgs are ros msgs \n",
    "    similar to matlab code, robot library (rl) is needed to convert msgs to end effector pose\n",
    "    '''\n",
    "    \n",
    "    poss, vels, ees, ts, imgs_wrist, imgs_front=[], [], [], [], [], []\n",
    "\n",
    "    for i in range(len(msgs)-1):  #remove the last element, as ee is delta_ee\n",
    "        msg=msgs[i]\n",
    "        img_wrist, img_front=imgs[i]\n",
    "\n",
    "        ee=get_ee(msg)\n",
    "        next_ee=get_ee(msgs[i+1])\n",
    "        delta_ee=next_ee -ee\n",
    "\n",
    "        pos =[msg.position[ind] for ind in joint_inds] \n",
    "        vel =[msg.velocity[ind] for ind in joint_inds] \n",
    "        t=msg.header.stamp.sec+msg.header.stamp.nanosec*1e-9\n",
    "\n",
    "        poss.append(pos)\n",
    "        vels.append(vel)\n",
    "        ees.append(delta_ee)\n",
    "        ts.append(t)\n",
    "\n",
    "        # to rgb\n",
    "        img_wrist=cv2.cvtColor(img_wrist, cv2.COLOR_BGR2RGB)\n",
    "        img_front=cv2.cvtColor(img_front, cv2.COLOR_BGR2RGB)\n",
    "        \n",
    "        img_wrist=cv2.resize(img_wrist, (84,84))\n",
    "        img_front=cv2.resize(img_front, (84,84))\n",
    "\n",
    "        imgs_wrist.append(img_wrist)\n",
    "        imgs_front.append(img_front)\n",
    "\n",
    "    poss=np.array(poss)\n",
    "    vels=np.array(vels)\n",
    "    ees=np.array(ees)\n",
    "    ts=np.array(ts)\n",
    "    imgs_wrist=np.array(imgs_wrist)\n",
    "    imgs_front=np.array(imgs_front)\n",
    "\n",
    "    grips =np.array(grips[:-1], dtype=np.int8)  \n",
    "\n",
    "    return poss, vels, ees, ts, imgs_wrist, imgs_front, grips"
   ]
  },
  {
   "cell_type": "code",
   "execution_count": 115,
   "metadata": {},
   "outputs": [
    {
     "name": "stdout",
     "output_type": "stream",
     "text": [
      "/media/ns/DatasetDrive/data_sawyer/spoon/09_14_2023_22_43_0.048255205154418945_393.pkl\n"
     ]
    },
    {
     "data": {
      "text/plain": [
       "((392, 7),\n",
       " (392, 7),\n",
       " (392, 6),\n",
       " (392,),\n",
       " (392, 84, 84, 3),\n",
       " (392, 84, 84, 3),\n",
       " (392,),\n",
       " (392, 7))"
      ]
     },
     "execution_count": 115,
     "metadata": {},
     "output_type": "execute_result"
    }
   ],
   "source": [
    "print(demo_name)\n",
    "\n",
    "msgs, imgs, grips = load_demo_pkl(demo_name)\n",
    "poss, vels, ees, ts, imgs_wrist, imgs_front, grips = extract_data(msgs, imgs, grips)\n",
    "robomimic_action=np.hstack([ees, grips.reshape(-1,1)])\n",
    "\n",
    "poss.shape, vels.shape, ees.shape, ts.shape, imgs_wrist.shape, imgs_front.shape, grips.shape, robomimic_action.shape"
   ]
  },
  {
   "cell_type": "code",
   "execution_count": null,
   "metadata": {},
   "outputs": [],
   "source": []
  },
  {
   "cell_type": "code",
   "execution_count": 125,
   "metadata": {},
   "outputs": [
    {
     "data": {
      "text/plain": [
       "'/media/ns/DatasetDrive/data_sawyer/spoon/demo_block.hdf5'"
      ]
     },
     "execution_count": 125,
     "metadata": {},
     "output_type": "execute_result"
    }
   ],
   "source": [
    "hdf5_file_name=dir+'demo_block.hdf5'\n",
    "hdf5_file_name"
   ]
  },
  {
   "cell_type": "code",
   "execution_count": 126,
   "metadata": {},
   "outputs": [],
   "source": [
    "def save_to_robomimic_like_hdf5(hdf5_file_name, demo_no, poss, vels, ees, ts, imgs_wrist, imgs_front, actions):\n",
    "\n",
    "    demo_group=f\"/data/demo_{demo_no}\"\n",
    "    print(f'saving demo {demo_group} to {hdf5_file_name}')\n",
    "    with h5py.File(hdf5_file_name, 'a') as hf:\n",
    "        group = hf.create_group(demo_group) \n",
    "        group.attrs['num_samples'] = poss.shape[0]\n",
    "        group.create_dataset('obs/robot0_eef_pos', data=ees)\n",
    "        group.create_dataset('obs/robot0_eye_in_hand_image', data=imgs_wrist)\n",
    "        group.create_dataset('obs/agentview_image', data=imgs_front)\n",
    "        group.create_dataset('obs/robot0_joint_pos', data=poss)\n",
    "        group.create_dataset('obs/robot0_joint_vel', data=vels)\n",
    "        group.create_dataset('actions', data=actions)\n",
    "        group.create_dataset('times', data=ts)"
   ]
  },
  {
   "cell_type": "code",
   "execution_count": 127,
   "metadata": {},
   "outputs": [
    {
     "name": "stdout",
     "output_type": "stream",
     "text": [
      "saving demo /data/demo_1 to /media/ns/DatasetDrive/data_sawyer/spoon/demo_block.hdf5\n"
     ]
    }
   ],
   "source": [
    "save_to_robomimic_like_hdf5(hdf5_file_name, 1, poss, vels, ees, ts, imgs_wrist, imgs_front, robomimic_action)"
   ]
  },
  {
   "cell_type": "code",
   "execution_count": null,
   "metadata": {},
   "outputs": [],
   "source": []
  },
  {
   "cell_type": "code",
   "execution_count": 137,
   "metadata": {},
   "outputs": [
    {
     "name": "stdout",
     "output_type": "stream",
     "text": [
      "/media/ns/DatasetDrive/data_sawyer/spoon/09_14_2023_22_51_0.035153865814208984_500.pkl\n"
     ]
    },
    {
     "data": {
      "text/plain": [
       "((499, 7),\n",
       " (499, 7),\n",
       " (499, 6),\n",
       " (499,),\n",
       " (499, 84, 84, 3),\n",
       " (499, 84, 84, 3),\n",
       " (499,),\n",
       " (499, 7))"
      ]
     },
     "execution_count": 137,
     "metadata": {},
     "output_type": "execute_result"
    }
   ],
   "source": [
    "demo_name=files[1]\n",
    "print(demo_name)\n",
    "\n",
    "msgs, imgs, grips = load_demo_pkl(demo_name)\n",
    "poss, vels, ees, ts, imgs_wrist, imgs_front, grips = extract_data(msgs, imgs, grips)\n",
    "robomimic_action=np.hstack([ees, grips.reshape(-1,1)])\n",
    "\n",
    "poss.shape, vels.shape, ees.shape, ts.shape, imgs_wrist.shape, imgs_front.shape, grips.shape, robomimic_action.shape"
   ]
  },
  {
   "cell_type": "code",
   "execution_count": 140,
   "metadata": {},
   "outputs": [
    {
     "name": "stdout",
     "output_type": "stream",
     "text": [
      "saving demo /data/demo_2 to /media/ns/DatasetDrive/data_sawyer/spoon/demo_block.hdf5\n"
     ]
    }
   ],
   "source": [
    "save_to_robomimic_like_hdf5(hdf5_file_name, 2, poss, vels, ees, ts, imgs_wrist, imgs_front, robomimic_action)"
   ]
  },
  {
   "cell_type": "code",
   "execution_count": null,
   "metadata": {},
   "outputs": [],
   "source": []
  },
  {
   "cell_type": "code",
   "execution_count": null,
   "metadata": {},
   "outputs": [],
   "source": []
  },
  {
   "cell_type": "code",
   "execution_count": 112,
   "metadata": {},
   "outputs": [
    {
     "data": {
      "text/plain": [
       "<matplotlib.image.AxesImage at 0x7f13e879fb20>"
      ]
     },
     "execution_count": 112,
     "metadata": {},
     "output_type": "execute_result"
    },
    {
     "data": {
      "image/png": "[encoded data removed]",
      "text/plain": [
       "<Figure size 640x480 with 1 Axes>"
      ]
     },
     "metadata": {},
     "output_type": "display_data"
    }
   ],
   "source": [
    "img=imgs_front[0]\n",
    "img=imgs_wrist[0]\n",
    "\n",
    "plt.imshow(img)"
   ]
  },
  {
   "cell_type": "code",
   "execution_count": null,
   "metadata": {},
   "outputs": [],
   "source": []
  },
  {
   "cell_type": "code",
   "execution_count": null,
   "metadata": {},
   "outputs": [],
   "source": []
  },
  {
   "cell_type": "code",
   "execution_count": 148,
   "metadata": {},
   "outputs": [
    {
     "data": {
      "text/plain": [
       "<KeysViewHDF5 ['data']>"
      ]
     },
     "execution_count": 148,
     "metadata": {},
     "output_type": "execute_result"
    }
   ],
   "source": [
    "file_path = hdf5_file_name\n",
    "file=h5py.File(file_path, 'r') \n",
    "file.keys()"
   ]
  },
  {
   "cell_type": "code",
   "execution_count": 149,
   "metadata": {},
   "outputs": [
    {
     "data": {
      "text/plain": [
       "<KeysViewHDF5 ['demo_1', 'demo_2']>"
      ]
     },
     "execution_count": 149,
     "metadata": {},
     "output_type": "execute_result"
    }
   ],
   "source": [
    "file['data'].keys()"
   ]
  },
  {
   "cell_type": "code",
   "execution_count": 150,
   "metadata": {},
   "outputs": [
    {
     "data": {
      "text/plain": [
       "<KeysViewHDF5 ['actions', 'obs', 'times']>"
      ]
     },
     "execution_count": 150,
     "metadata": {},
     "output_type": "execute_result"
    }
   ],
   "source": [
    "file['data']['demo_1'].keys()"
   ]
  },
  {
   "cell_type": "code",
   "execution_count": 151,
   "metadata": {},
   "outputs": [
    {
     "data": {
      "text/plain": [
       "<KeysViewHDF5 ['agentview_image', 'robot0_eef_pos', 'robot0_eye_in_hand_image', 'robot0_joint_pos', 'robot0_joint_vel']>"
      ]
     },
     "execution_count": 151,
     "metadata": {},
     "output_type": "execute_result"
    }
   ],
   "source": [
    "file['data']['demo_1']['obs'].keys()"
   ]
  },
  {
   "cell_type": "code",
   "execution_count": 152,
   "metadata": {},
   "outputs": [
    {
     "data": {
      "text/plain": [
       "499"
      ]
     },
     "execution_count": 152,
     "metadata": {},
     "output_type": "execute_result"
    }
   ],
   "source": [
    "file['data']['demo_2'].attrs['num_samples']"
   ]
  },
  {
   "cell_type": "code",
   "execution_count": 153,
   "metadata": {},
   "outputs": [],
   "source": [
    "file.close()"
   ]
  },
  {
   "cell_type": "code",
   "execution_count": null,
   "metadata": {},
   "outputs": [],
   "source": []
  },
  {
   "cell_type": "code",
   "execution_count": null,
   "metadata": {},
   "outputs": [],
   "source": []
  },
  {
   "cell_type": "code",
   "execution_count": null,
   "metadata": {},
   "outputs": [],
   "source": []
  }
 ],
 "metadata": {
  "kernelspec": {
   "display_name": "Python 3",
   "language": "python",
   "name": "python3"
  },
  "language_info": {
   "codemirror_mode": {
    "name": "ipython",
    "version": 3
   },
   "file_extension": ".py",
   "mimetype": "text/x-python",
   "name": "python",
   "nbconvert_exporter": "python",
   "pygments_lexer": "ipython3",
   "version": "3.10.12"
  },
  "orig_nbformat": 4
 },
 "nbformat": 4,
 "nbformat_minor": 2
}
