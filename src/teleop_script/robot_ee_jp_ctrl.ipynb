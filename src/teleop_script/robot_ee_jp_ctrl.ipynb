{
 "cells": [
  {
   "cell_type": "code",
   "execution_count": 1,
   "metadata": {},
   "outputs": [],
   "source": [
    "from robot_library_py import *\n",
    "import rclpy\n",
    "from rclpy.node import Node\n",
    "from sensor_msgs.msg import Joy, JointState\n",
    "from intera_core_msgs.msg import JointCommand\n",
    "\n",
    "from threading import Thread\n",
    "import time\n",
    "import numpy as np \n",
    "from std_msgs.msg import Bool\n",
    "import rotm2euler"
   ]
  },
  {
   "cell_type": "code",
   "execution_count": 2,
   "metadata": {},
   "outputs": [],
   "source": [
    "class ROSInterface:\n",
    "    def __init__(self, node, robot):\n",
    "        \n",
    "        self.robot = robot\n",
    "        self.node = node\n",
    "        self.jointMap = {name: ind for ind, name in enumerate(self.robot.jointNames)} \n",
    "\n",
    "        self.latest_joint_states = None\n",
    "\n",
    "    def joint_states_callback(self, msg):\n",
    "        self.latest_joint_states = msg\n",
    "        q = self.robot.getJoints()\n",
    "        # print('joint_states:', q)\n",
    "        for ind, name in enumerate(msg.name):\n",
    "            if name in self.jointMap:\n",
    "                q[self.jointMap[name]] = msg.position[ind]\n",
    "        self.robot.setJoints(q)\n",
    "\n",
    "    def spin_thread(self):\n",
    "        self.node.create_subscription(JointState, 'robot/joint_states', self.joint_states_callback, 10) \n",
    "        rclpy.spin(self.node)"
   ]
  },
  {
   "cell_type": "code",
   "execution_count": 3,
   "metadata": {},
   "outputs": [
    {
     "name": "stdout",
     "output_type": "stream",
     "text": [
      "sawyer\n",
      "link: 0\n",
      "\tcog: 0 0 0\n",
      "\tinertia: 1 1 1 0 0 0\n",
      "\tmass: 1\n",
      "\tname: base\n",
      "link: 1\n",
      "\tcog: 0 0 0\n",
      "\tinertia: 1e-08 1e-08 1e-08     0     0     0\n",
      "\tmass: 0.0001\n",
      "\tname: torso\n",
      "link: 2\n",
      "\tcog:    0    0 -0.5\n",
      "\tinertia:    5.06359    6.08689    4.96192 0.00105311   0.801996 0.00103417\n",
      "\tmass: 60.864\n",
      "\tname: pedestal\n",
      "link: 3\n",
      "\tcog: 0 0 0\n",
      "\tinertia: 1 1 1 0 0 0\n",
      "\tmass: 1\n",
      "\tname: controller_box\n",
      "link: 4\n",
      "\tcog: 0 0 0\n",
      "\tinertia: 1 1 1 0 0 0\n",
      "\tmass: 1\n",
      "\tname: pedestal_feet\n",
      "link: 5\n",
      "\tcog:  -0.0006241 -2.8025e-05    0.065404\n",
      "\tinertia:   0.0067599   0.0067877   0.0074031  1.5888e-05 -6.1904e-07 -4.2024e-05\n",
      "\tmass: 2.0687\n",
      "\tname: right_arm_base_link\n",
      "link: 6\n",
      "\tcog: 0.024366 0.010969  0.14363\n",
      "\tinertia:  0.053314  0.057902  0.023659 0.0080179  0.011734 0.0047093\n",
      "\tmass: 5.3213\n",
      "\tname: right_l0\n",
      "link: 7\n",
      "\tcog:   0.0053207 -2.6549e-05      0.1021\n",
      "\tinertia:    0.011833   0.0082709   0.0049661  4.2124e-07  4.9425e-05 -4.4669e-06\n",
      "\tmass: 1.5795\n",
      "\tname: head\n",
      "link: 8\n",
      "\tcog: 0 0 0\n",
      "\tinertia: 1e-08 1e-08 1e-08     0     0     0\n",
      "\tmass: 0.0001\n",
      "\tname: right_torso_itb\n",
      "link: 9\n",
      "\tcog: -0.0030849  -0.026811   0.092521\n",
      "\tinertia:    0.022398    0.014613    0.017295  -0.0060875 -0.00029362 -0.00023986\n",
      "\tmass: 4.505\n",
      "\tname: right_l1\n",
      "link: 10\n",
      "\tcog: -0.00016044   -0.014967     0.13582\n",
      "\tinertia:   0.025506     0.0253  0.0034179 -0.0033204 1.4955e-05 4.4101e-06\n",
      "\tmass: 1.745\n",
      "\tname: right_l2\n",
      "link: 11\n",
      "\tcog: -0.0048135    -0.0281  -0.084154\n",
      "\tinertia:     0.01016   0.0065685   0.0069078   0.0030316  0.00026624 -9.7452e-06\n",
      "\tmass: 2.5097\n",
      "\tname: right_l3\n",
      "link: 12\n",
      "\tcog: -0.0018844  0.0069001     0.1341\n",
      "\tinertia:   0.013557   0.013555  0.0013658  0.0010561 0.00013523 1.8109e-05\n",
      "\tmass: 1.1136\n",
      "\tname: right_l4\n",
      "link: 13\n",
      "\tcog: 0 0 0\n",
      "\tinertia: 1e-08 1e-08 1e-08     0     0     0\n",
      "\tmass: 0.0001\n",
      "\tname: right_arm_itb\n",
      "link: 14\n",
      "\tcog: 0.0061133 -0.023697  0.076416\n",
      "\tinertia:  0.0047328  0.0029676  0.0031762 -0.0011557 4.6269e-05 0.00011526\n",
      "\tmass: 1.5625\n",
      "\tname: right_l5\n",
      "link: 15\n",
      "\tcog: 0 0 0\n",
      "\tinertia: 1 1 1 0 0 0\n",
      "\tmass: 0\n",
      "\tname: right_hand_camera\n",
      "link: 16\n",
      "\tcog: 0 0 0\n",
      "\tinertia: 1 1 1 0 0 0\n",
      "\tmass: 1\n",
      "\tname: right_wrist\n",
      "link: 17\n",
      "\tcog: -8.0726e-06   0.0085838  -0.0049566\n",
      "\tinertia:  0.00031105  0.00021549  0.00035976 -8.4533e-06 -3.7074e-07  1.4771e-06\n",
      "\tmass: 0.3292\n",
      "\tname: right_l6\n",
      "link: 18\n",
      "\tcog: 1e-08 1e-08 1e-08\n",
      "\tinertia: 1e-08 1e-08 1e-08 1e-08 1e-08 1e-08\n",
      "\tmass: 1e-08\n",
      "\tname: right_hand\n",
      "link: 19\n",
      "\tcog: 1e-08 1e-08 1e-08\n",
      "\tinertia: 1e-08 1e-08 1e-08 1e-08 1e-08 1e-08\n",
      "\tmass: 1e-08\n",
      "\tname: right_l1_2\n",
      "link: 20\n",
      "\tcog: 1e-08 1e-08 1e-08\n",
      "\tinertia: 1e-08 1e-08 1e-08 1e-08 1e-08 1e-08\n",
      "\tmass: 1e-08\n",
      "\tname: right_l2_2\n",
      "link: 21\n",
      "\tcog: 1e-08 1e-08 1e-08\n",
      "\tinertia: 1e-08 1e-08 1e-08 1e-08 1e-08 1e-08\n",
      "\tmass: 1e-08\n",
      "\tname: right_l4_2\n",
      "link: 22\n",
      "\tcog: 0 0 0\n",
      "\tinertia: 1e-08 1e-08 1e-08     0     0     0\n",
      "\tmass: 0.0001\n",
      "\tname: screen\n",
      "link: 23\n",
      "\tcog: 0 0 0\n",
      "\tinertia: 1 1 1 0 0 0\n",
      "\tmass: 1\n",
      "\tname: head_camera\n",
      "link: 24\n",
      "\tcog: 0 0 0\n",
      "\tinertia: 1 1 1 0 0 0\n",
      "\tmass: 1\n",
      "\tname: camera_base_link\n",
      "link: 25\n",
      "\tcog: 0 0 0\n",
      "\tinertia: 1 1 1 0 0 0\n",
      "\tmass: 1\n",
      "\tname: camera_bottom_screw_frame\n",
      "link: 26\n",
      "\tcog: 0 0 0\n",
      "\tinertia: 0.00388124 0.00049894 0.00387926          0          0          0\n",
      "\tmass: 0.072\n",
      "\tname: camera_link\n",
      "link: 27\n",
      "\tcog:  0.0028 -0.0004  0.0343\n",
      "\tinertia: 1e-08 1e-08 1e-08     0     0     0\n",
      "\tmass: 0.47\n",
      "\tname: right_gripper_base\n",
      "link: 28\n",
      "\tcog: 0 0 0\n",
      "\tinertia: 1.1e-09 1.1e-09 1.1e-09       0       0       0\n",
      "\tmass: 2e-06\n",
      "\tname: right_electric_gripper_base\n",
      "link: 29\n",
      "\tcog: 0 0 0\n",
      "\tinertia:  6.9922e-05  6.8188e-05  0.00012392 -1.6118e-08 -1.7042e-06  6.1026e-08\n",
      "\tmass: 0\n",
      "\tname: right_connector_plate_base\n",
      "link: 30\n",
      "\tcog: 0 0 0\n",
      "\tinertia: 1 1 1 0 0 0\n",
      "\tmass: 1\n",
      "\tname: right_connector_plate_mount\n",
      "link: 31\n",
      "\tcog: 0 0 0\n",
      "\tinertia: 0.01 0.01 0.01    0    0    0\n",
      "\tmass: 0.001\n",
      "\tname: right_gripper_l_finger\n",
      "link: 32\n",
      "\tcog: 0 0 0\n",
      "\tinertia: 0.01 0.01 0.01    0    0    0\n",
      "\tmass: 0.001\n",
      "\tname: right_gripper_l_finger_tip\n",
      "link: 33\n",
      "\tcog: 0 0 0\n",
      "\tinertia: 0.01 0.01 0.01    0    0    0\n",
      "\tmass: 0.001\n",
      "\tname: right_gripper_r_finger\n",
      "link: 34\n",
      "\tcog: 0 0 0\n",
      "\tinertia: 0.01 0.01 0.01    0    0    0\n",
      "\tmass: 0.001\n",
      "\tname: right_gripper_r_finger_tip\n",
      "link: 35\n",
      "\tcog: 0 0 0\n",
      "\tinertia: 1.1e-09 1.1e-09 1.1e-09       0       0       0\n",
      "\tmass: 2e-06\n",
      "\tname: right_gripper_tip\n",
      "joint: 0\n",
      "\tparent: base\n",
      "\tchild: controller_box\n",
      "\torigin.translation: 0 0 0\n",
      "\torigin.rotation:  0 -0  0\n",
      "\ttype: fixed\n",
      "\tname: controller_box_fixed\n",
      "joint: 1\n",
      "\tparent: base\n",
      "\tchild: pedestal_feet\n",
      "\torigin.translation: 0 0 0\n",
      "\torigin.rotation:  0 -0  0\n",
      "\ttype: fixed\n",
      "\tname: pedestal_feet_fixed\n",
      "joint: 2\n",
      "\tparent: base\n",
      "\tchild: pedestal\n",
      "\torigin.translation: 0 0 0\n",
      "\torigin.rotation:  0 -0  0\n",
      "\ttype: fixed\n",
      "\tname: pedestal_fixed\n",
      "joint: 3\n",
      "\tparent: base\n",
      "\tchild: right_arm_base_link\n",
      "\torigin.translation: 0 0 0\n",
      "\torigin.rotation:  0 -0  0\n",
      "\ttype: fixed\n",
      "\tname: right_arm_mount\n",
      "joint: 4\n",
      "\tparent: base\n",
      "\tchild: torso\n",
      "\torigin.translation: 0 0 0\n",
      "\torigin.rotation:  0 -0  0\n",
      "\ttype: fixed\n",
      "\tname: torso_t0\n",
      "joint: 5\n",
      "\tparent: right_arm_base_link\n",
      "\tchild: right_l0\n",
      "\torigin.translation:    0    0 0.08\n",
      "\torigin.rotation:  0 -0  0\n",
      "\ttype: revolute\n",
      "\tmax: 174.769\n",
      "\tmin: -174.769\n",
      "\tspeed: 99.6947\n",
      "\taxis: 0 0 1\n",
      "\tname: right_j0\n",
      "joint: 6\n",
      "\tparent: right_l0\n",
      "\tchild: head\n",
      "\torigin.translation:      0      0 0.2965\n",
      "\torigin.rotation:  0 -0  0\n",
      "\ttype: revolute\n",
      "\tmax: 51.9329\n",
      "\tmin: -291.933\n",
      "\tspeed: 103.132\n",
      "\taxis: 0 0 1\n",
      "\tname: head_pan\n",
      "joint: 7\n",
      "\tparent: right_l0\n",
      "\tchild: right_torso_itb\n",
      "\torigin.translation: -0.055      0   0.22\n",
      "\torigin.rotation:  -0 -90   0\n",
      "\ttype: fixed\n",
      "\tname: right_torso_itb\n",
      "joint: 8\n",
      "\tparent: right_l0\n",
      "\tchild: right_l1\n",
      "\torigin.translation: 0.081  0.05 0.237\n",
      "\torigin.rotation: -90  90   0\n",
      "\ttype: revolute\n",
      "\tmax: 130.268\n",
      "\tmin: -218.268\n",
      "\tspeed: 76.0888\n",
      "\taxis: 0 0 1\n",
      "\tname: right_j1\n",
      "joint: 9\n",
      "\tparent: right_l1\n",
      "\tchild: right_l2\n",
      "\torigin.translation:      0  -0.14 0.1425\n",
      "\torigin.rotation: 90 -0  0\n",
      "\ttype: revolute\n",
      "\tmax: 174.328\n",
      "\tmin: -174.328\n",
      "\tspeed: 112.128\n",
      "\taxis: 0 0 1\n",
      "\tname: right_j2\n",
      "joint: 10\n",
      "\tparent: right_l2\n",
      "\tchild: right_l3\n",
      "\torigin.translation:      0 -0.042   0.26\n",
      "\torigin.rotation: -90  -0   0\n",
      "\ttype: revolute\n",
      "\tmax: 174.403\n",
      "\tmin: -174.403\n",
      "\tspeed: 112.128\n",
      "\taxis: 0 0 1\n",
      "\tname: right_j3\n",
      "joint: 11\n",
      "\tparent: right_l3\n",
      "\tchild: right_l4\n",
      "\torigin.translation:       0  -0.125 -0.1265\n",
      "\torigin.rotation: 90 -0  0\n",
      "\ttype: revolute\n",
      "\tmax: 170.518\n",
      "\tmin: -170.518\n",
      "\tspeed: 199.676\n",
      "\taxis: 0 0 1\n",
      "\tname: right_j4\n",
      "joint: 12\n",
      "\tparent: right_l4\n",
      "\tchild: right_arm_itb\n",
      "\torigin.translation: -0.055      0  0.075\n",
      "\torigin.rotation:  -0 -90   0\n",
      "\ttype: fixed\n",
      "\tname: right_arm_itb\n",
      "joint: 13\n",
      "\tparent: right_l4\n",
      "\tchild: right_l5\n",
      "\torigin.translation:     0 0.031 0.275\n",
      "\torigin.rotation: -90  -0   0\n",
      "\ttype: revolute\n",
      "\tmax: 170.518\n",
      "\tmin: -170.518\n",
      "\tspeed: 199.676\n",
      "\taxis: 0 0 1\n",
      "\tname: right_j5\n",
      "joint: 14\n",
      "\tparent: right_l5\n",
      "\tchild: right_hand_camera\n",
      "\torigin.translation: 0.039552   -0.033   0.0695\n",
      "\torigin.rotation:  0 90  0\n",
      "\ttype: fixed\n",
      "\tname: right_hand_camera\n",
      "joint: 15\n",
      "\tparent: right_l5\n",
      "\tchild: right_wrist\n",
      "\torigin.translation:       0       0 0.10541\n",
      "\torigin.rotation: 90 -0  0\n",
      "\ttype: fixed\n",
      "\tname: right_wrist\n",
      "joint: 16\n",
      "\tparent: right_l5\n",
      "\tchild: right_l6\n",
      "\torigin.translation:      0  -0.11 0.1053\n",
      "\torigin.rotation:          90        -170 0.000420918\n",
      "\ttype: revolute\n",
      "\tmax: 270.001\n",
      "\tmin: -270.001\n",
      "\tspeed: 260.409\n",
      "\taxis: 0 0 1\n",
      "\tname: right_j6\n",
      "joint: 17\n",
      "\tparent: right_l6\n",
      "\tchild: right_hand\n",
      "\torigin.translation:      0      0 0.0245\n",
      "\torigin.rotation:  0 -0 90\n",
      "\ttype: fixed\n",
      "\tname: right_hand\n",
      "joint: 18\n",
      "\tparent: right_l1\n",
      "\tchild: right_l1_2\n",
      "\torigin.translation: 0 0 0\n",
      "\torigin.rotation:  0 -0  0\n",
      "\ttype: fixed\n",
      "\tname: right_j1_2\n",
      "joint: 19\n",
      "\tparent: right_l2\n",
      "\tchild: right_l2_2\n",
      "\torigin.translation: 0 0 0\n",
      "\torigin.rotation:  0 -0  0\n",
      "\ttype: fixed\n",
      "\tname: right_j2_2\n",
      "joint: 20\n",
      "\tparent: right_l4\n",
      "\tchild: right_l4_2\n",
      "\torigin.translation: 0 0 0\n",
      "\torigin.rotation:  0 -0  0\n",
      "\ttype: fixed\n",
      "\tname: right_j4_2\n",
      "joint: 21\n",
      "\tparent: head\n",
      "\tchild: screen\n",
      "\torigin.translation:  0.03     0 0.105\n",
      "\torigin.rotation: 90 -0 90\n",
      "\ttype: fixed\n",
      "\tname: display_joint\n",
      "joint: 22\n",
      "\tparent: head\n",
      "\tchild: head_camera\n",
      "\torigin.translation: 0.0228027         0  0.216572\n",
      "\torigin.rotation: 58.0001    -180      90\n",
      "\ttype: fixed\n",
      "\tname: head_camera\n",
      "joint: 23\n",
      "\tparent: right_l6\n",
      "\tchild: camera_base_link\n",
      "\torigin.translation:        0 0.038279 0.028525\n",
      "\torigin.rotation:  90 -90 180\n",
      "\ttype: fixed\n",
      "\tname: right_l6_to_camera\n",
      "joint: 24\n",
      "\tparent: camera_base_link\n",
      "\tchild: camera_bottom_screw_frame\n",
      "\torigin.translation: 0 0 0\n",
      "\torigin.rotation:  0 -0  0\n",
      "\ttype: fixed\n",
      "\tname: camera_joint\n",
      "joint: 25\n",
      "\tparent: camera_bottom_screw_frame\n",
      "\tchild: camera_link\n",
      "\torigin.translation: 0.0106 0.0175 0.0125\n",
      "\torigin.rotation:  0 -0  0\n",
      "\ttype: fixed\n",
      "\tname: camera_link_joint\n",
      "joint: 26\n",
      "\tparent: right_gripper_base\n",
      "\tchild: right_connector_plate_base\n",
      "\torigin.translation:      0      0 0.0018\n",
      "\torigin.rotation:  0 -0  0\n",
      "\ttype: fixed\n",
      "\tname: right_connector_plate_base_joint\n",
      "joint: 27\n",
      "\tparent: right_connector_plate_base\n",
      "\tchild: right_connector_plate_mount\n",
      "\torigin.translation:      0      0 0.0176\n",
      "\torigin.rotation:  0 -0  0\n",
      "\ttype: fixed\n",
      "\tname: right_connector_plate_mount_joint\n",
      "joint: 28\n",
      "\tparent: right_connector_plate_mount\n",
      "\tchild: right_electric_gripper_base\n",
      "\torigin.translation: 0 0 0\n",
      "\torigin.rotation:  0 -0  0\n",
      "\ttype: fixed\n",
      "\tname: right_electric_gripper_base_joint\n",
      "joint: 29\n",
      "\tparent: right_gripper_l_finger\n",
      "\tchild: right_gripper_l_finger_tip\n",
      "\torigin.translation:       0 0.01725   0.075\n",
      "\torigin.rotation:  0 -0  0\n",
      "\ttype: fixed\n",
      "\tname: right_gripper_l_finger_tip_joint\n",
      "joint: 30\n",
      "\tparent: right_gripper_r_finger\n",
      "\tchild: right_gripper_r_finger_tip\n",
      "\torigin.translation:        0 -0.01725    0.075\n",
      "\torigin.rotation:  0 -0  0\n",
      "\ttype: fixed\n",
      "\tname: right_gripper_r_finger_tip_joint\n",
      "joint: 31\n",
      "\tparent: right_hand\n",
      "\tchild: right_gripper_base\n",
      "\torigin.translation:      0      0 -0.005\n",
      "\torigin.rotation:  0 -0  0\n",
      "\ttype: fixed\n",
      "\tname: right_gripper_base_joint\n",
      "joint: 32\n",
      "\tparent: right_gripper_base\n",
      "\tchild: right_gripper_tip\n",
      "\torigin.translation:       0       0 0.14062\n",
      "\torigin.rotation:  0 -0  0\n",
      "\ttype: fixed\n",
      "\tname: right_gripper_tip_joint\n",
      "joint: 33\n",
      "\tparent: right_electric_gripper_base\n",
      "\tchild: right_gripper_l_finger\n",
      "\torigin.translation:   0.003 -0.0015 0.04552\n",
      "\torigin.rotation:  0 -0  0\n",
      "\ttype: prismatic\n",
      "\tmax: 0.020833\n",
      "\tmin: 0\n",
      "\tspeed: 5\n",
      "\taxis: 0 1 0\n",
      "\tname: right_gripper_l_finger_joint\n",
      "joint: 34\n",
      "\tparent: right_electric_gripper_base\n",
      "\tchild: right_gripper_r_finger\n",
      "\torigin.translation:   0.003  0.0015 0.04552\n",
      "\torigin.rotation:  0 -0  0\n",
      "\ttype: prismatic\n",
      "\tmax: 0\n",
      "\tmin: -0.020833\n",
      "\tspeed: 5\n",
      "\taxis: 0 1 0\n",
      "\tname: right_gripper_r_finger_joint\n",
      "root: base\n"
     ]
    }
   ],
   "source": [
    "rclpy.init()\n",
    "robot = URDFModel('/home/ns/sawyer_robot_ros2/src/teleop_script/sawyer.urdf')\n",
    "jointMap = {name: ind for ind, name in enumerate(robot.jointNames)}\n",
    "\n",
    "node = Node('pub_dbg')\n",
    "q = robot.getJoints()\n",
    "ros_interface = ROSInterface(node, robot)\n",
    "cmd_pub = node.create_publisher(JointCommand, '/robot/limb/right/joint_command', 10)\n",
    "pass "
   ]
  },
  {
   "cell_type": "code",
   "execution_count": 35,
   "metadata": {},
   "outputs": [
    {
     "data": {
      "text/plain": [
       "['controller_box',\n",
       " 'pedestal_feet',\n",
       " 'pedestal',\n",
       " 'screen',\n",
       " 'head_camera',\n",
       " 'right_torso_itb',\n",
       " 'right_arm_itb',\n",
       " 'right_hand_camera',\n",
       " 'right_wrist',\n",
       " 'right_gripper_l_finger_tip',\n",
       " 'right_gripper_r_finger_tip',\n",
       " 'right_gripper_tip',\n",
       " 'camera_link',\n",
       " 'right_l4_2',\n",
       " 'right_l2_2',\n",
       " 'right_l1_2',\n",
       " 'torso']"
      ]
     },
     "execution_count": 35,
     "metadata": {},
     "output_type": "execute_result"
    }
   ],
   "source": [
    "robot.EENames"
   ]
  },
  {
   "cell_type": "code",
   "execution_count": 4,
   "metadata": {},
   "outputs": [],
   "source": [
    "# ros_interface.spin_thread()\n",
    "t1 = Thread(target=ros_interface.spin_thread)\n",
    "t1.start()"
   ]
  },
  {
   "cell_type": "code",
   "execution_count": null,
   "metadata": {},
   "outputs": [],
   "source": [
    "ros_interface.robot.bodyNames[18]"
   ]
  },
  {
   "cell_type": "code",
   "execution_count": 5,
   "metadata": {},
   "outputs": [
    {
     "data": {
      "text/plain": [
       "False"
      ]
     },
     "execution_count": 5,
     "metadata": {},
     "output_type": "execute_result"
    }
   ],
   "source": [
    "js=ros_interface.latest_joint_states\n",
    "header=js.header\n",
    "names=js.name\n",
    "poss=np.array(js.position)\n",
    "vels=np.array(js.velocity) \n",
    "j_gripper=poss[-2]\n",
    "gripper_close=np.allclose(0, j_gripper)\n",
    "\n",
    "gripper_close"
   ]
  },
  {
   "cell_type": "code",
   "execution_count": 6,
   "metadata": {},
   "outputs": [
    {
     "data": {
      "text/plain": [
       "False"
      ]
     },
     "execution_count": 6,
     "metadata": {},
     "output_type": "execute_result"
    }
   ],
   "source": [
    "q=ros_interface.robot.getJoints()\n",
    "j_gripper=q[-2]\n",
    "gripper_close=np.allclose(0, j_gripper)\n",
    "\n",
    "gripper_close"
   ]
  },
  {
   "cell_type": "code",
   "execution_count": 7,
   "metadata": {},
   "outputs": [
    {
     "data": {
      "text/plain": [
       "array([ 2.14776710e-01, -2.89072440e-15, -1.01072043e-02, -1.43806732e+00,\n",
       "        1.43868005e+00, -1.53588951e+00, -1.43656623e+00,  4.78658229e-01,\n",
       "        2.99999956e-02, -2.99999937e-02])"
      ]
     },
     "execution_count": 7,
     "metadata": {},
     "output_type": "execute_result"
    }
   ],
   "source": [
    "cj=ros_interface.robot.getJoints()\n",
    "cj "
   ]
  },
  {
   "cell_type": "code",
   "execution_count": null,
   "metadata": {},
   "outputs": [],
   "source": []
  },
  {
   "cell_type": "code",
   "execution_count": 8,
   "metadata": {},
   "outputs": [
    {
     "name": "stdout",
     "output_type": "stream",
     "text": [
      "motion detected\n",
      "stop\n"
     ]
    }
   ],
   "source": [
    "msg=ros_interface.latest_joint_states\n",
    "poss_prev=np.array(msg.position)\n",
    "\n",
    "msgs=[]\n",
    "motion_detected=False\n",
    "stop_count=0\n",
    "for i in range(1000000):\n",
    "    time.sleep(0.1)\n",
    "    msg=ros_interface.latest_joint_states\n",
    "    msgs.append(msg)\n",
    "    poss=np.array(msg.position)\n",
    "    d=np.linalg.norm(poss-poss_prev)\n",
    "    if np.allclose(poss_prev, poss):  # no motion\n",
    "        if motion_detected:\n",
    "            # print('motion stopped, d=', d)\n",
    "            stop_count+=1\n",
    "            if stop_count>1:\n",
    "                print('stop')\n",
    "                break\n",
    "    elif not motion_detected:\n",
    "        print('motion detected')\n",
    "        motion_detected=True\n",
    "        \n",
    "    poss_prev=poss.copy()\n"
   ]
  },
  {
   "cell_type": "code",
   "execution_count": 9,
   "metadata": {},
   "outputs": [
    {
     "data": {
      "text/plain": [
       "50"
      ]
     },
     "execution_count": 9,
     "metadata": {},
     "output_type": "execute_result"
    }
   ],
   "source": [
    "len(msgs)"
   ]
  },
  {
   "cell_type": "code",
   "execution_count": null,
   "metadata": {},
   "outputs": [],
   "source": []
  },
  {
   "cell_type": "code",
   "execution_count": 36,
   "metadata": {},
   "outputs": [],
   "source": [
    "def get_ee(jointmsg):\n",
    "    msg=jointmsg    \n",
    "    q =  robot.getJoints() \n",
    "    for ind, name in enumerate(msg.name):\n",
    "        if name in jointMap:\n",
    "            q[jointMap[name]] = msg.position[ind]\n",
    "    robot.setJoints(q)\n",
    "    \n",
    "    # T=robot.getBodyTransform('right_l6');\n",
    "    T=robot.getBodyTransform('camera_link');\n",
    "    xyz=T[0:3,3]\n",
    "    e1 = rotm2euler.rotationMatrixToEulerAngles(T[0:3, 0:3])\n",
    "    ee6=np.concatenate([xyz, e1])\n",
    "    return ee6"
   ]
  },
  {
   "cell_type": "code",
   "execution_count": 37,
   "metadata": {},
   "outputs": [
    {
     "data": {
      "text/plain": [
       "array([ 0.49847557, -0.12783336,  0.28214653,  0.24355614,  1.50861656,\n",
       "        0.28054265])"
      ]
     },
     "execution_count": 37,
     "metadata": {},
     "output_type": "execute_result"
    }
   ],
   "source": [
    "ee6_0=get_ee(msgs[0])\n",
    "ee6_0"
   ]
  },
  {
   "cell_type": "code",
   "execution_count": 38,
   "metadata": {},
   "outputs": [
    {
     "data": {
      "text/plain": [
       "array([0.49604321, 0.01439874, 0.28228565, 0.2367697 , 1.50788587,\n",
       "       0.27416482])"
      ]
     },
     "execution_count": 38,
     "metadata": {},
     "output_type": "execute_result"
    }
   ],
   "source": [
    "ee6_n=get_ee(msgs[-1])\n",
    "ee6_n"
   ]
  },
  {
   "cell_type": "code",
   "execution_count": 39,
   "metadata": {},
   "outputs": [
    {
     "data": {
      "text/plain": [
       "array([0.50094439, 0.03512883, 0.2820698 , 0.25118496, 1.50916413,\n",
       "       0.2877427 ])"
      ]
     },
     "execution_count": 39,
     "metadata": {},
     "output_type": "execute_result"
    }
   ],
   "source": [
    "get_ee(ros_interface.latest_joint_states)"
   ]
  },
  {
   "cell_type": "code",
   "execution_count": 46,
   "metadata": {},
   "outputs": [],
   "source": [
    "def goto_xyzrpy(target, delay=0.1):\n",
    "    ee6=get_ee(ros_interface.latest_joint_states)\n",
    "    xd=ee6-target\n",
    "\n",
    "    alpha = .0001\n",
    "    I = np.eye(q.shape[0])\n",
    "\n",
    "    while np.linalg.norm(xd)>0.1:\n",
    "        ee6=get_ee(ros_interface.latest_joint_states)\n",
    "        xd=target-ee6 \n",
    "\n",
    "        J = robot.getJacobian('camera_link')\n",
    "        \n",
    "        qd = np.linalg.inv(J.T @ J + alpha * I) @ J.T @ xd\n",
    "\n",
    "        cmd_msg = JointCommand()\n",
    "        cmd_msg.names = robot.jointNames\n",
    "        cmd_msg.mode = cmd_msg.VELOCITY_MODE\n",
    "        cmd_msg.header.stamp = rclpy.clock.Clock().now().to_msg()\n",
    "\n",
    "        cmd_msg.velocity = list(qd)\n",
    "        cmd_pub.publish(cmd_msg)\n",
    "        time.sleep(delay)"
   ]
  },
  {
   "cell_type": "code",
   "execution_count": 47,
   "metadata": {},
   "outputs": [],
   "source": [
    "goto_xyzrpy(ee6_0)"
   ]
  },
  {
   "cell_type": "code",
   "execution_count": 48,
   "metadata": {},
   "outputs": [],
   "source": [
    "goto_xyzrpy(ee6_n)"
   ]
  },
  {
   "cell_type": "code",
   "execution_count": null,
   "metadata": {},
   "outputs": [],
   "source": []
  },
  {
   "cell_type": "markdown",
   "metadata": {},
   "source": [
    "### approach 2, jp jv"
   ]
  },
  {
   "cell_type": "code",
   "execution_count": 20,
   "metadata": {},
   "outputs": [
    {
     "data": {
      "text/plain": [
       "(array([ 2.14776710e-01, -2.11151211e-15, -1.01072043e-02, -1.43806732e+00,\n",
       "         1.43868005e+00, -1.53588951e+00, -1.43656623e+00,  4.78658229e-01,\n",
       "         2.99999956e-02, -2.99999937e-02]),\n",
       " array([ 5.23831904e-01, -9.28416381e-15,  4.61013094e-02, -1.49702036e+00,\n",
       "         1.51172018e+00, -1.46873796e+00, -1.47573721e+00,  7.11586714e-01,\n",
       "         2.99999956e-02, -2.99999993e-02]),\n",
       " 0.4096147055171422)"
      ]
     },
     "execution_count": 20,
     "metadata": {},
     "output_type": "execute_result"
    }
   ],
   "source": [
    "tpos=np.array(msgs[0].position)\n",
    "cpos=np.array(ros_interface.latest_joint_states.position)\n",
    "dpos=np.linalg.norm(tpos-cpos)\n",
    "tpos, cpos, dpos"
   ]
  },
  {
   "cell_type": "code",
   "execution_count": 49,
   "metadata": {},
   "outputs": [],
   "source": [
    "def goto_jointpos(target_jointpos, alpha=0.7, tol=0.1,  delay=0.1):\n",
    "    cpos=np.array(ros_interface.latest_joint_states.position)\n",
    "    dpos=np.linalg.norm(target_jointpos-cpos)\n",
    "\n",
    "    while dpos>tol: \n",
    "        cpos=np.array(ros_interface.latest_joint_states.position)\n",
    "        dpos=np.linalg.norm(target_jointpos-cpos)\n",
    " \n",
    "        qd =(target_jointpos-cpos)*alpha\n",
    "\n",
    "        cmd_msg = JointCommand()\n",
    "        cmd_msg.names = robot.jointNames\n",
    "        cmd_msg.mode = cmd_msg.VELOCITY_MODE\n",
    "        cmd_msg.header.stamp = rclpy.clock.Clock().now().to_msg()\n",
    "        cmd_msg.velocity = list(qd)\n",
    "        cmd_pub.publish(cmd_msg)\n",
    "        time.sleep(delay)"
   ]
  },
  {
   "cell_type": "code",
   "execution_count": 50,
   "metadata": {},
   "outputs": [],
   "source": [
    "tpos=np.array(msgs[0].position)\n",
    "goto_jointpos(tpos)"
   ]
  },
  {
   "cell_type": "code",
   "execution_count": 51,
   "metadata": {},
   "outputs": [],
   "source": [
    "tpos=np.array(msgs[-1].position)\n",
    "goto_jointpos(tpos)"
   ]
  },
  {
   "cell_type": "code",
   "execution_count": null,
   "metadata": {},
   "outputs": [],
   "source": [
    "ros_interface.robot.getJoints()"
   ]
  },
  {
   "cell_type": "code",
   "execution_count": null,
   "metadata": {},
   "outputs": [],
   "source": []
  },
  {
   "cell_type": "code",
   "execution_count": null,
   "metadata": {},
   "outputs": [],
   "source": []
  },
  {
   "cell_type": "code",
   "execution_count": null,
   "metadata": {},
   "outputs": [],
   "source": []
  },
  {
   "cell_type": "code",
   "execution_count": null,
   "metadata": {},
   "outputs": [],
   "source": []
  },
  {
   "cell_type": "code",
   "execution_count": null,
   "metadata": {},
   "outputs": [],
   "source": []
  },
  {
   "cell_type": "code",
   "execution_count": null,
   "metadata": {},
   "outputs": [],
   "source": []
  }
 ],
 "metadata": {
  "kernelspec": {
   "display_name": "Python 3",
   "language": "python",
   "name": "python3"
  },
  "language_info": {
   "codemirror_mode": {
    "name": "ipython",
    "version": 3
   },
   "file_extension": ".py",
   "mimetype": "text/x-python",
   "name": "python",
   "nbconvert_exporter": "python",
   "pygments_lexer": "ipython3",
   "version": "3.10.12"
  },
  "orig_nbformat": 4
 },
 "nbformat": 4,
 "nbformat_minor": 2
}
