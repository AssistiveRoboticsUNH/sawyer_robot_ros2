{
 "cells": [
  {
   "cell_type": "code",
   "execution_count": 1,
   "metadata": {},
   "outputs": [
    {
     "name": "stdout",
     "output_type": "stream",
     "text": [
      "\u001b[33mROBOMIMIC WARNING(\n",
      "    No private macro file found!\n",
      "    It is recommended to use a private macro file\n",
      "    To setup, run: python /home/carl/robomimic/robomimic/scripts/setup_macros.py\n",
      ")\u001b[0m\n"
     ]
    }
   ],
   "source": [
    "import os\n",
    "import json\n",
    "import h5py\n",
    "import numpy as np\n",
    "\n",
    "import robomimic\n",
    "import robomimic.utils.file_utils as FileUtils\n",
    "import robomimic.utils.env_utils as EnvUtils\n",
    "import robomimic.utils.obs_utils as ObsUtils\n",
    "import imageio\n",
    "import tqdm\n",
    "from robomimic.utils.file_utils import create_hdf5_filter_key"
   ]
  },
  {
   "cell_type": "code",
   "execution_count": 2,
   "metadata": {},
   "outputs": [],
   "source": [
    "dataset_path = \"/home/carl/data_sawyer/dclose_11_25/demos_10d_g53.hdf5\""
   ]
  },
  {
   "cell_type": "code",
   "execution_count": 3,
   "metadata": {},
   "outputs": [
    {
     "name": "stdout",
     "output_type": "stream",
     "text": [
      "Number of demos:  81\n",
      "Max length:  636\n",
      "Min length:  43\n",
      "Mean length:  128.65432098765433\n"
     ]
    }
   ],
   "source": [
    "f = h5py.File(dataset_path, \"r\")\n",
    "demos = list(f[\"data\"].keys())\n",
    "\n",
    "lengths=[]\n",
    "for demo_name in demos:\n",
    "    demo=f['data'][demo_name]\n",
    "    num_samples=demo.attrs['num_samples']\n",
    "    lengths.append(num_samples)\n",
    "\n",
    "lengths=np.array(lengths)\n",
    "\n",
    "print('Number of demos: ', len(demos))\n",
    "print('Max length: ', np.max(lengths))\n",
    "print('Min length: ', np.min(lengths))\n",
    "print('Mean length: ', np.mean(lengths))"
   ]
  },
  {
   "cell_type": "code",
   "execution_count": 4,
   "metadata": {},
   "outputs": [
    {
     "data": {
      "text/plain": [
       "<KeysViewHDF5 ['bad', 'g50b10', 'g50b20', 'g50b5']>"
      ]
     },
     "execution_count": 4,
     "metadata": {},
     "output_type": "execute_result"
    }
   ],
   "source": [
    "del f['mask']['good']\n",
    "f['mask'].keys()"
   ]
  },
  {
   "cell_type": "code",
   "execution_count": null,
   "metadata": {},
   "outputs": [],
   "source": []
  },
  {
   "cell_type": "code",
   "execution_count": 5,
   "metadata": {},
   "outputs": [
    {
     "data": {
      "text/plain": [
       "(53,)"
      ]
     },
     "execution_count": 5,
     "metadata": {},
     "output_type": "execute_result"
    }
   ],
   "source": [
    "demos_good=np.array(demos[:53], dtype='S8')\n",
    "demos_good.shape"
   ]
  },
  {
   "cell_type": "code",
   "execution_count": 6,
   "metadata": {},
   "outputs": [],
   "source": [
    "hdf5_path=dataset_path\n",
    "\n",
    "filter_keys=demos_good\n",
    "filter_name=\"good\"\n",
    "filter_lengths = create_hdf5_filter_key(hdf5_path=hdf5_path, demo_keys=filter_keys, key_name=filter_name)"
   ]
  },
  {
   "cell_type": "code",
   "execution_count": 7,
   "metadata": {},
   "outputs": [
    {
     "data": {
      "text/plain": [
       "<KeysViewHDF5 ['bad', 'g50b10', 'g50b20', 'g50b5', 'good']>"
      ]
     },
     "execution_count": 7,
     "metadata": {},
     "output_type": "execute_result"
    }
   ],
   "source": [
    "f['mask'].keys()"
   ]
  },
  {
   "cell_type": "code",
   "execution_count": 6,
   "metadata": {},
   "outputs": [
    {
     "data": {
      "text/plain": [
       "53"
      ]
     },
     "execution_count": 6,
     "metadata": {},
     "output_type": "execute_result"
    }
   ],
   "source": [
    "max_id=0\n",
    "for d in demos:\n",
    "    id=int(d.split('_')[1])\n",
    "    if id>max_id:\n",
    "        max_id=id\n",
    "next_id=max_id+1\n",
    "next_id"
   ]
  },
  {
   "cell_type": "code",
   "execution_count": null,
   "metadata": {},
   "outputs": [],
   "source": []
  },
  {
   "cell_type": "code",
   "execution_count": 10,
   "metadata": {},
   "outputs": [],
   "source": [
    "f.close()"
   ]
  },
  {
   "cell_type": "code",
   "execution_count": null,
   "metadata": {},
   "outputs": [],
   "source": []
  },
  {
   "cell_type": "code",
   "execution_count": null,
   "metadata": {},
   "outputs": [],
   "source": []
  },
  {
   "cell_type": "code",
   "execution_count": 7,
   "metadata": {},
   "outputs": [
    {
     "name": "stdout",
     "output_type": "stream",
     "text": [
      "Number of demos:  28\n",
      "Max length:  636\n",
      "Min length:  87\n",
      "Mean length:  268.57142857142856\n"
     ]
    }
   ],
   "source": [
    "dataset_path2 = \"/home/carl/data_sawyer/dclose/demos_10d_b28.hdf5\"\n",
    "\n",
    "f2 = h5py.File(dataset_path2, \"r\")\n",
    "demos2 = list(f2[\"data\"].keys())\n",
    "\n",
    "lengths=[]\n",
    "for demo_name in demos2:\n",
    "    demo=f2['data'][demo_name]\n",
    "    num_samples=demo.attrs['num_samples']\n",
    "    lengths.append(num_samples)\n",
    "\n",
    "lengths=np.array(lengths)\n",
    "\n",
    "print('Number of demos: ', len(demos2))\n",
    "print('Max length: ', np.max(lengths))\n",
    "print('Min length: ', np.min(lengths))\n",
    "print('Mean length: ', np.mean(lengths))"
   ]
  },
  {
   "cell_type": "code",
   "execution_count": 8,
   "metadata": {},
   "outputs": [],
   "source": [
    "keys_to_copy=demos2"
   ]
  },
  {
   "cell_type": "code",
   "execution_count": 9,
   "metadata": {},
   "outputs": [
    {
     "name": "stderr",
     "output_type": "stream",
     "text": [
      "100%|██████████| 28/28 [00:00<00:00, 95.06it/s]\n"
     ]
    }
   ],
   "source": [
    "i=next_id\n",
    "for demo_name in tqdm.tqdm(keys_to_copy):\n",
    "    b_demo=f2['data'][demo_name]\n",
    "    num_samples=b_demo.attrs['num_samples']\n",
    "\n",
    "    bdemo_name=\"demo_\"+str(i)\n",
    "    i = i+1\n",
    "\n",
    "    f[\"data\"].create_group(bdemo_name)\n",
    "\n",
    "\n",
    "    ks=['actions', 'times']\n",
    "    for k in ks:\n",
    "        kdata = b_demo[k]\n",
    "        f[\"data\"][bdemo_name].create_dataset(k, data=kdata)\n",
    "\n",
    "    obs_keys =b_demo['obs'].keys()\n",
    "\n",
    "    for k in obs_keys:\n",
    "        kdata = b_demo['obs'][k]\n",
    "        f[\"data\"][bdemo_name].create_dataset(f'obs/{k}', data=kdata)\n",
    "\n",
    "    f[\"data\"][bdemo_name].attrs[\"num_samples\"] = num_samples\n",
    " \n",
    "f2.close()"
   ]
  },
  {
   "cell_type": "code",
   "execution_count": 10,
   "metadata": {},
   "outputs": [
    {
     "name": "stderr",
     "output_type": "stream",
     "text": [
      "100%|██████████| 28/28 [00:00<00:00, 343393.31it/s]\n"
     ]
    }
   ],
   "source": [
    "# create a group for the new data.\n",
    "i=next_id\n",
    "keys=[]\n",
    "for demo_name in tqdm.tqdm(keys_to_copy):\n",
    "    bdemo_name=\"demo_\"+str(i)\n",
    "    keys.append(bdemo_name)\n",
    "    i = i+1\n",
    "\n",
    "keys=np.array(keys, dtype='S8')"
   ]
  },
  {
   "cell_type": "code",
   "execution_count": 12,
   "metadata": {},
   "outputs": [],
   "source": [
    "filter_keys=keys\n",
    "filter_name=\"bad\"\n",
    "filter_lengths = create_hdf5_filter_key(hdf5_path=dataset_path, demo_keys=filter_keys, key_name=filter_name)"
   ]
  },
  {
   "cell_type": "code",
   "execution_count": 13,
   "metadata": {},
   "outputs": [
    {
     "data": {
      "text/plain": [
       "81"
      ]
     },
     "execution_count": 13,
     "metadata": {},
     "output_type": "execute_result"
    }
   ],
   "source": [
    "# verify length\n",
    "demos = list(f[\"data\"].keys())\n",
    "len(demos)"
   ]
  },
  {
   "cell_type": "code",
   "execution_count": 14,
   "metadata": {},
   "outputs": [
    {
     "data": {
      "text/plain": [
       "(53, 28)"
      ]
     },
     "execution_count": 14,
     "metadata": {},
     "output_type": "execute_result"
    }
   ],
   "source": [
    "good=[demo.decode('utf-8') for demo in f['mask']['good'] ] \n",
    "bad=[demo.decode('utf-8') for demo in f['mask']['bad'] ]  \n",
    "len(good) , len(bad) "
   ]
  },
  {
   "cell_type": "code",
   "execution_count": 16,
   "metadata": {},
   "outputs": [
    {
     "data": {
      "text/plain": [
       "((55,), (60,), (70,))"
      ]
     },
     "execution_count": 16,
     "metadata": {},
     "output_type": "execute_result"
    }
   ],
   "source": [
    "gb1=good[:50] + bad[:5]\n",
    "gb2=good[:50] + bad[:10]\n",
    "gb3=good[:50] + bad[:20]\n",
    "\n",
    "gb1=np.array(gb1, dtype='S8')\n",
    "gb2=np.array(gb2, dtype='S8')\n",
    "gb3=np.array(gb3, dtype='S8')\n",
    "\n",
    "gb1.shape, gb2.shape, gb3.shape"
   ]
  },
  {
   "cell_type": "code",
   "execution_count": 17,
   "metadata": {},
   "outputs": [],
   "source": [
    "filter_keys=gb1\n",
    "filter_name='g50b5'\n",
    "filter_lengths = create_hdf5_filter_key(hdf5_path=dataset_path, demo_keys=filter_keys, key_name=filter_name)\n",
    "\n",
    "filter_keys=gb2\n",
    "filter_name='g50b10'\n",
    "filter_lengths = create_hdf5_filter_key(hdf5_path=dataset_path, demo_keys=filter_keys, key_name=filter_name)\n",
    "\n",
    "filter_keys=gb3\n",
    "filter_name='g50b20'\n",
    "filter_lengths = create_hdf5_filter_key(hdf5_path=dataset_path, demo_keys=filter_keys, key_name=filter_name)"
   ]
  },
  {
   "cell_type": "code",
   "execution_count": 18,
   "metadata": {},
   "outputs": [],
   "source": [
    "f.close()"
   ]
  },
  {
   "cell_type": "code",
   "execution_count": null,
   "metadata": {},
   "outputs": [],
   "source": []
  },
  {
   "cell_type": "markdown",
   "metadata": {},
   "source": [
    "### verify"
   ]
  },
  {
   "cell_type": "code",
   "execution_count": 3,
   "metadata": {},
   "outputs": [
    {
     "name": "stdout",
     "output_type": "stream",
     "text": [
      "dataset:  /home/carl/data_sawyer/dclose_11_25/demos_10d_g53.hdf5\n",
      "bad <HDF5 dataset \"bad\": shape (28,), type \"|S8\">\n",
      "g50b10 <HDF5 dataset \"g50b10\": shape (60,), type \"|S8\">\n",
      "g50b20 <HDF5 dataset \"g50b20\": shape (70,), type \"|S8\">\n",
      "g50b5 <HDF5 dataset \"g50b5\": shape (55,), type \"|S8\">\n",
      "good <HDF5 dataset \"good\": shape (53,), type \"|S8\">\n"
     ]
    }
   ],
   "source": [
    "f = h5py.File(dataset_path, \"r\")\n",
    "demos = list(f[\"data\"].keys())\n",
    "print('dataset: ', dataset_path)\n",
    "for k in f['mask'].keys():\n",
    "    ks=f['mask'][k]\n",
    "    print(k, ks)\n",
    "f.close()"
   ]
  },
  {
   "cell_type": "code",
   "execution_count": null,
   "metadata": {},
   "outputs": [],
   "source": []
  },
  {
   "cell_type": "code",
   "execution_count": null,
   "metadata": {},
   "outputs": [],
   "source": []
  }
 ],
 "metadata": {
  "kernelspec": {
   "display_name": "Python 3 (ipykernel)",
   "language": "python",
   "name": "python3"
  },
  "language_info": {
   "codemirror_mode": {
    "name": "ipython",
    "version": 3
   },
   "file_extension": ".py",
   "mimetype": "text/x-python",
   "name": "python",
   "nbconvert_exporter": "python",
   "pygments_lexer": "ipython3",
   "version": "3.10.12"
  },
  "orig_nbformat": 4
 },
 "nbformat": 4,
 "nbformat_minor": 2
}
