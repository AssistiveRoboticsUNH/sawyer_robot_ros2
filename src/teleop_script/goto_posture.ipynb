{
 "cells": [
  {
   "cell_type": "code",
   "execution_count": 1,
   "metadata": {},
   "outputs": [
    {
     "name": "stderr",
     "output_type": "stream",
     "text": [
      "I/O warning : failed to load external entity \"/home/ns/sawyer_robot_ros2/src/teleop_script/sawyer.urdf\"\n"
     ]
    },
    {
     "ename": "RuntimeError",
     "evalue": "failed to load external entity \"/home/ns/sawyer_robot_ros2/src/teleop_script/sawyer.urdf\"\n",
     "output_type": "error",
     "traceback": [
      "\u001b[0;31m---------------------------------------------------------------------------\u001b[0m",
      "\u001b[0;31mRuntimeError\u001b[0m                              Traceback (most recent call last)",
      "\u001b[1;32m/home/carl/sawyer_robot_ros2/src/teleop_script/goto_posture.ipynb Cell 1\u001b[0m line \u001b[0;36m1\n\u001b[1;32m     <a href='vscode-notebook-cell:/home/carl/sawyer_robot_ros2/src/teleop_script/goto_posture.ipynb#W0sZmlsZQ%3D%3D?line=9'>10</a>\u001b[0m \u001b[39mfrom\u001b[39;00m \u001b[39mstd_msgs\u001b[39;00m\u001b[39m.\u001b[39;00m\u001b[39mmsg\u001b[39;00m \u001b[39mimport\u001b[39;00m Bool\n\u001b[1;32m     <a href='vscode-notebook-cell:/home/carl/sawyer_robot_ros2/src/teleop_script/goto_posture.ipynb#W0sZmlsZQ%3D%3D?line=10'>11</a>\u001b[0m \u001b[39mimport\u001b[39;00m \u001b[39mrotm2euler\u001b[39;00m\n\u001b[0;32m---> <a href='vscode-notebook-cell:/home/carl/sawyer_robot_ros2/src/teleop_script/goto_posture.ipynb#W0sZmlsZQ%3D%3D?line=11'>12</a>\u001b[0m \u001b[39mfrom\u001b[39;00m \u001b[39mutils_robot\u001b[39;00m \u001b[39mimport\u001b[39;00m \u001b[39m*\u001b[39m\n",
      "File \u001b[0;32m~/sawyer_robot_ros2/src/teleop_script/utils_robot.py:13\u001b[0m\n\u001b[1;32m     10\u001b[0m \u001b[39mfrom\u001b[39;00m \u001b[39mstd_msgs\u001b[39;00m\u001b[39m.\u001b[39;00m\u001b[39mmsg\u001b[39;00m \u001b[39mimport\u001b[39;00m Bool\n\u001b[1;32m     11\u001b[0m \u001b[39mimport\u001b[39;00m \u001b[39mrotm2euler\u001b[39;00m\n\u001b[0;32m---> 13\u001b[0m robot \u001b[39m=\u001b[39m URDFModel(\u001b[39m'\u001b[39;49m\u001b[39m/home/ns/sawyer_robot_ros2/src/teleop_script/sawyer.urdf\u001b[39;49m\u001b[39m'\u001b[39;49m)\n\u001b[1;32m     14\u001b[0m jointMap \u001b[39m=\u001b[39m {name: ind \u001b[39mfor\u001b[39;00m ind, name \u001b[39min\u001b[39;00m \u001b[39menumerate\u001b[39m(robot\u001b[39m.\u001b[39mjointNames)}\n\u001b[1;32m     16\u001b[0m \u001b[39mdef\u001b[39;00m \u001b[39mget_ee\u001b[39m(jointmsg):\n",
      "\u001b[0;31mRuntimeError\u001b[0m: failed to load external entity \"/home/ns/sawyer_robot_ros2/src/teleop_script/sawyer.urdf\"\n"
     ]
    }
   ],
   "source": [
    "from robot_library_py import *\n",
    "import rclpy\n",
    "from rclpy.node import Node\n",
    "from sensor_msgs.msg import Joy, JointState\n",
    "from intera_core_msgs.msg import JointCommand\n",
    "\n",
    "from threading import Thread\n",
    "import time\n",
    "import numpy as np \n",
    "from std_msgs.msg import Bool\n",
    "import rotm2euler\n",
    "from utils_robot import *"
   ]
  },
  {
   "cell_type": "markdown",
   "metadata": {},
   "source": [
    "### record position and move to target position"
   ]
  },
  {
   "cell_type": "code",
   "execution_count": 2,
   "metadata": {},
   "outputs": [],
   "source": [
    "class ROSInterface:\n",
    "    def __init__(self, node, robot):\n",
    "        \n",
    "        self.robot = robot\n",
    "        self.node = node\n",
    "        self.jointMap = {name: ind for ind, name in enumerate(self.robot.jointNames)} \n",
    "\n",
    "        self.latest_joint_states = None\n",
    "\n",
    "    def joint_states_callback(self, msg):\n",
    "        self.latest_joint_states = msg\n",
    "        q = self.robot.getJoints()\n",
    "        # print('joint_states:', q)\n",
    "        for ind, name in enumerate(msg.name):\n",
    "            if name in self.jointMap:\n",
    "                q[self.jointMap[name]] = msg.position[ind]\n",
    "        self.robot.setJoints(q)\n",
    "\n",
    "    def spin_thread(self):\n",
    "        self.node.create_subscription(JointState, 'robot/joint_states', self.joint_states_callback, 10) \n",
    "        rclpy.spin(self.node)"
   ]
  },
  {
   "cell_type": "code",
   "execution_count": 3,
   "metadata": {},
   "outputs": [],
   "source": [
    "rclpy.init()\n",
    "# robot = URDFModel('/home/ns/sawyer_robot_ros2/src/teleop_script/sawyer.urdf')\n",
    "# jointMap = {name: ind for ind, name in enumerate(robot.jointNames)}\n",
    "\n",
    "node = Node('posture_control')\n",
    "q = robot.getJoints()\n",
    "ros_interface = ROSInterface(node, robot)\n",
    "cmd_pub = node.create_publisher(JointCommand, '/robot/limb/right/joint_command', 10)\n",
    "\n",
    "t1 = Thread(target=ros_interface.spin_thread)\n",
    "t1.start()"
   ]
  },
  {
   "cell_type": "code",
   "execution_count": null,
   "metadata": {},
   "outputs": [],
   "source": []
  },
  {
   "cell_type": "code",
   "execution_count": 4,
   "metadata": {},
   "outputs": [
    {
     "name": "stdout",
     "output_type": "stream",
     "text": [
      "current_q: [-1.27526172  0.34152148  0.43530078 -2.30253809  1.22560156 -0.81931934\n",
      " -2.02041211  2.81698438  0.        ]\n"
     ]
    }
   ],
   "source": [
    "q0=np.array(ros_interface.latest_joint_states.position)\n",
    "print('current_q:', q0)"
   ]
  },
  {
   "cell_type": "code",
   "execution_count": null,
   "metadata": {},
   "outputs": [],
   "source": []
  },
  {
   "cell_type": "code",
   "execution_count": 5,
   "metadata": {},
   "outputs": [
    {
     "name": "stdout",
     "output_type": "stream",
     "text": [
      "current_q: [0.04069973]\n"
     ]
    }
   ],
   "source": [
    "q1=np.array(ros_interface.latest_joint_states.position)\n",
    "print('current_q:', q1)"
   ]
  },
  {
   "cell_type": "code",
   "execution_count": 6,
   "metadata": {},
   "outputs": [],
   "source": [
    "target_jp=np.array(q0)"
   ]
  },
  {
   "cell_type": "code",
   "execution_count": 7,
   "metadata": {},
   "outputs": [
    {
     "ename": "KeyboardInterrupt",
     "evalue": "",
     "output_type": "error",
     "traceback": [
      "\u001b[0;31m---------------------------------------------------------------------------\u001b[0m",
      "\u001b[0;31mKeyboardInterrupt\u001b[0m                         Traceback (most recent call last)",
      "\u001b[1;32m/home/ns/sawyer_robot_ros2/src/teleop_script/goto_posture.ipynb Cell 10\u001b[0m in \u001b[0;36m1\n\u001b[0;32m----> <a href='vscode-notebook-cell:/home/ns/sawyer_robot_ros2/src/teleop_script/goto_posture.ipynb#X25sZmlsZQ%3D%3D?line=0'>1</a>\u001b[0m goto_jointpos(ros_interface, target_jp, cmd_pub)\n",
      "File \u001b[0;32m~/sawyer_robot_ros2/src/teleop_script/utils_robot.py:68\u001b[0m, in \u001b[0;36mgoto_jointpos\u001b[0;34m(ros_interface, target_jointpos, vel_pub, alpha, tol, delay)\u001b[0m\n\u001b[1;32m     65\u001b[0m qd \u001b[39m=\u001b[39m(target_jointpos\u001b[39m-\u001b[39mcpos)\u001b[39m*\u001b[39malpha\n\u001b[1;32m     67\u001b[0m pub_vel(vel_pub, \u001b[39mlist\u001b[39m(qd)) \n\u001b[0;32m---> 68\u001b[0m time\u001b[39m.\u001b[39;49msleep(delay)\n",
      "\u001b[0;31mKeyboardInterrupt\u001b[0m: "
     ]
    }
   ],
   "source": [
    "goto_jointpos(ros_interface, target_jp, cmd_pub)"
   ]
  },
  {
   "cell_type": "code",
   "execution_count": 15,
   "metadata": {},
   "outputs": [
    {
     "data": {
      "text/plain": [
       "(10,)"
      ]
     },
     "execution_count": 15,
     "metadata": {},
     "output_type": "execute_result"
    }
   ],
   "source": [
    "target_jp.shape"
   ]
  },
  {
   "cell_type": "code",
   "execution_count": null,
   "metadata": {},
   "outputs": [],
   "source": [
    "cpos=np.array(ros_interface.latest_joint_states.position)"
   ]
  },
  {
   "cell_type": "code",
   "execution_count": 8,
   "metadata": {},
   "outputs": [
    {
     "data": {
      "text/plain": [
       "(array([-1.27526172,  0.34152148,  0.43530078, -2.30253809,  1.22560156,\n",
       "        -0.81931934, -2.02041211,  2.81698438,  0.        ]),\n",
       " array([-1.27526172,  0.06153906,  0.30872949, -2.32432031,  1.08205762,\n",
       "        -0.94028223, -2.02453125,  2.61006055,  0.        ]),\n",
       " 0.4158800743935447)"
      ]
     },
     "execution_count": 8,
     "metadata": {},
     "output_type": "execute_result"
    }
   ],
   "source": [
    "tpos=np.array(q0)\n",
    "cpos=np.array(ros_interface.latest_joint_states.position)\n",
    "dpos=np.linalg.norm(tpos-cpos)\n",
    "tpos, cpos, dpos"
   ]
  },
  {
   "cell_type": "code",
   "execution_count": 9,
   "metadata": {},
   "outputs": [],
   "source": [
    "def goto_jointpos(target_jointpos, alpha=0.7, tol=0.1,  delay=0.1):\n",
    "    cpos=np.array(ros_interface.latest_joint_states.position)\n",
    "    dpos=np.linalg.norm(target_jointpos-cpos)\n",
    "\n",
    "    while dpos>tol: \n",
    "        cpos=np.array(ros_interface.latest_joint_states.position)\n",
    "        dpos=np.linalg.norm(target_jointpos-cpos)\n",
    " \n",
    "        qd =(target_jointpos-cpos)*alpha\n",
    "\n",
    "        cmd_msg = JointCommand()\n",
    "        cmd_msg.names = robot.jointNames\n",
    "        cmd_msg.mode = cmd_msg.VELOCITY_MODE\n",
    "        cmd_msg.header.stamp = rclpy.clock.Clock().now().to_msg()\n",
    "        cmd_msg.velocity = list(qd)\n",
    "        cmd_pub.publish(cmd_msg)\n",
    "        time.sleep(delay)"
   ]
  },
  {
   "cell_type": "code",
   "execution_count": 10,
   "metadata": {},
   "outputs": [
    {
     "ename": "KeyboardInterrupt",
     "evalue": "",
     "output_type": "error",
     "traceback": [
      "\u001b[0;31m---------------------------------------------------------------------------\u001b[0m",
      "\u001b[0;31mKeyboardInterrupt\u001b[0m                         Traceback (most recent call last)",
      "\u001b[1;32m/home/ns/sawyer_robot_ros2/src/teleop_script/goto_posture.ipynb Cell 15\u001b[0m in \u001b[0;36m2\n\u001b[1;32m      <a href='vscode-notebook-cell:/home/ns/sawyer_robot_ros2/src/teleop_script/goto_posture.ipynb#X33sZmlsZQ%3D%3D?line=0'>1</a>\u001b[0m tpos\u001b[39m=\u001b[39mnp\u001b[39m.\u001b[39marray(q0)\n\u001b[0;32m----> <a href='vscode-notebook-cell:/home/ns/sawyer_robot_ros2/src/teleop_script/goto_posture.ipynb#X33sZmlsZQ%3D%3D?line=1'>2</a>\u001b[0m goto_jointpos(tpos)\n",
      "\u001b[1;32m/home/ns/sawyer_robot_ros2/src/teleop_script/goto_posture.ipynb Cell 15\u001b[0m in \u001b[0;36m1\n\u001b[1;32m     <a href='vscode-notebook-cell:/home/ns/sawyer_robot_ros2/src/teleop_script/goto_posture.ipynb#X33sZmlsZQ%3D%3D?line=14'>15</a>\u001b[0m cmd_msg\u001b[39m.\u001b[39mvelocity \u001b[39m=\u001b[39m \u001b[39mlist\u001b[39m(qd)\n\u001b[1;32m     <a href='vscode-notebook-cell:/home/ns/sawyer_robot_ros2/src/teleop_script/goto_posture.ipynb#X33sZmlsZQ%3D%3D?line=15'>16</a>\u001b[0m cmd_pub\u001b[39m.\u001b[39mpublish(cmd_msg)\n\u001b[0;32m---> <a href='vscode-notebook-cell:/home/ns/sawyer_robot_ros2/src/teleop_script/goto_posture.ipynb#X33sZmlsZQ%3D%3D?line=16'>17</a>\u001b[0m time\u001b[39m.\u001b[39;49msleep(delay)\n",
      "\u001b[0;31mKeyboardInterrupt\u001b[0m: "
     ]
    }
   ],
   "source": [
    "tpos=np.array(q0)\n",
    "goto_jointpos(tpos)"
   ]
  },
  {
   "cell_type": "code",
   "execution_count": 13,
   "metadata": {},
   "outputs": [],
   "source": [
    "target_jointpos=np.array(q0)\n",
    "tol=0.1\n",
    "alpha=0.7\n",
    "delay=0.1"
   ]
  },
  {
   "cell_type": "code",
   "execution_count": 18,
   "metadata": {},
   "outputs": [
    {
     "name": "stdout",
     "output_type": "stream",
     "text": [
      "dpos: 0.4640422028348395\n",
      "dpos: 0.4640422028348395\n",
      "dpos: 0.4640422028348395\n",
      "dpos: 0.4640422028348395\n",
      "dpos: 0.4640422028348395\n",
      "dpos: 0.4640422028348395\n",
      "dpos: 0.4640422028348395\n",
      "dpos: 0.4640422028348395\n",
      "dpos: 0.4640422028348395\n",
      "dpos: 0.4640422028348395\n",
      "dpos: 0.4640422028348395\n",
      "dpos: 0.4640422028348395\n",
      "dpos: 0.4640422028348395\n",
      "dpos: 0.4640422028348395\n",
      "dpos: 0.4640422028348395\n",
      "dpos: 0.4640422028348395\n",
      "dpos: 0.4640422028348395\n",
      "dpos: 0.4640422028348395\n",
      "dpos: 0.4640422028348395\n",
      "dpos: 0.4640422028348395\n",
      "dpos: 0.4640422028348395\n",
      "dpos: 0.4640422028348395\n",
      "dpos: 0.4640422028348395\n",
      "dpos: 0.4640422028348395\n",
      "dpos: 0.4640422028348395\n",
      "dpos: 0.4640422028348395\n",
      "dpos: 0.4640422028348395\n",
      "dpos: 0.4640422028348395\n",
      "dpos: 0.4640422028348395\n",
      "dpos: 0.4640422028348395\n",
      "dpos: 0.4640422028348395\n",
      "dpos: 0.4640422028348395\n",
      "dpos: 0.4640422028348395\n",
      "dpos: 0.4640422028348395\n",
      "dpos: 0.4640422028348395\n",
      "dpos: 0.4640422028348395\n",
      "dpos: 4.644408103030912\n",
      "dpos: 4.644408103030912\n",
      "dpos: 4.644408103030912\n",
      "dpos: 4.644408103030912\n",
      "dpos: 4.644408103030912\n",
      "dpos: 0.3953459744395751\n",
      "dpos: 4.644408103030912\n",
      "dpos: 4.644408103030912\n",
      "dpos: 0.3946248990935715\n",
      "dpos: 0.394709675226488\n",
      "dpos: 0.3948802470540576\n",
      "dpos: 0.39490816133348583\n",
      "dpos: 0.3948897377323882\n",
      "dpos: 0.39496689430402715\n",
      "dpos: 0.3949271531968988\n",
      "dpos: 0.3951505124400718\n",
      "dpos: 0.39506358049266377\n",
      "dpos: 0.39506358049266377\n",
      "dpos: 0.39506358049266377\n",
      "dpos: 0.3950196076174216\n",
      "dpos: 0.39506358049266377\n",
      "dpos: 0.3950196076174216\n",
      "dpos: 0.39506358049266377\n",
      "dpos: 0.39506358049266377\n",
      "dpos: 0.39506358049266377\n",
      "dpos: 0.39506358049266377\n",
      "dpos: 0.39506358049266377\n",
      "dpos: 0.39506358049266377\n",
      "dpos: 0.39506358049266377\n",
      "dpos: 0.39506358049266377\n",
      "dpos: 0.39506358049266377\n",
      "dpos: 0.39506358049266377\n",
      "dpos: 0.39506358049266377\n",
      "dpos: 0.39506358049266377\n",
      "dpos: 0.39506358049266377\n",
      "dpos: 0.39506358049266377\n",
      "dpos: 0.39506358049266377\n",
      "dpos: 0.39506358049266377\n",
      "dpos: 0.39506358049266377\n",
      "dpos: 0.39506358049266377\n",
      "dpos: 0.39506358049266377\n",
      "dpos: 0.39506358049266377\n",
      "dpos: 0.39506358049266377\n",
      "dpos: 0.39506358049266377\n",
      "dpos: 0.39506358049266377\n",
      "dpos: 0.39506358049266377\n",
      "dpos: 0.39506358049266377\n",
      "dpos: 4.644408103030912\n",
      "dpos: 4.644408103030912\n",
      "dpos: 4.644408103030912\n",
      "dpos: 4.644408103030912\n",
      "dpos: 4.644408103030912\n",
      "dpos: 4.644408103030912\n",
      "dpos: 4.644408103030912\n",
      "dpos: 4.644408103030912\n",
      "dpos: 4.644408103030912\n",
      "dpos: 0.39506358049266377\n",
      "dpos: 0.39506358049266377\n",
      "dpos: 0.39506358049266377\n",
      "dpos: 0.39506358049266377\n",
      "dpos: 0.39506358049266377\n",
      "dpos: 0.39506358049266377\n",
      "dpos: 0.39506358049266377\n",
      "dpos: 0.39506358049266377\n",
      "dpos: 0.39506358049266377\n",
      "dpos: 0.39506358049266377\n",
      "dpos: 0.39506358049266377\n",
      "dpos: 0.39468521665031947\n",
      "dpos: 0.3839579261700354\n",
      "dpos: 0.37026322157548575\n",
      "dpos: 0.3595145574216715\n",
      "dpos: 0.3500587246416612\n",
      "dpos: 0.3410009505518756\n",
      "dpos: 0.3332828088823177\n",
      "dpos: 0.3241519977390337\n",
      "dpos: 0.3166907181908487\n",
      "dpos: 0.3124579697367026\n",
      "dpos: 0.309142105136786\n",
      "dpos: 0.3093559243827513\n",
      "dpos: 0.31032504035680863\n",
      "dpos: 0.3098730715068038\n",
      "dpos: 0.3098165186686218\n",
      "dpos: 0.30987845107076883\n",
      "dpos: 0.3098882530582091\n",
      "dpos: 0.30997611958599747\n",
      "dpos: 0.3098338646247198\n",
      "dpos: 0.30997611958599747\n",
      "dpos: 0.3098338646247198\n",
      "dpos: 0.30997611958599747\n",
      "dpos: 0.309889634936664\n",
      "dpos: 0.30997611958599747\n",
      "dpos: 0.31000203511585284\n",
      "dpos: 0.30997611958599747\n",
      "dpos: 0.31000203511585284\n",
      "dpos: 0.30997611958599747\n",
      "dpos: 0.31000203511585284\n",
      "dpos: 0.30991979937924546\n",
      "dpos: 0.31000203511585284\n",
      "dpos: 4.644408103030912\n",
      "dpos: 4.644408103030912\n",
      "dpos: 4.644408103030912\n",
      "dpos: 4.644408103030912\n",
      "dpos: 4.644408103030912\n",
      "dpos: 4.644408103030912\n",
      "dpos: 0.30991979937924546\n",
      "dpos: 4.644408103030912\n",
      "dpos: 4.644408103030912\n",
      "dpos: 0.30991979937924546\n",
      "dpos: 0.30991979937924546\n",
      "dpos: 0.30991979937924546\n",
      "dpos: 0.30991979937924546\n",
      "dpos: 0.30991979937924546\n",
      "dpos: 0.30991979937924546\n",
      "dpos: 0.30991979937924546\n",
      "dpos: 0.30991979937924546\n",
      "dpos: 0.30991979937924546\n",
      "dpos: 0.30991979937924546\n",
      "dpos: 0.30991979937924546\n",
      "dpos: 0.30991979937924546\n",
      "dpos: 0.30991979937924546\n",
      "dpos: 0.30991979937924546\n",
      "dpos: 0.30991979937924546\n",
      "dpos: 0.30991979937924546\n",
      "dpos: 0.30991979937924546\n",
      "dpos: 0.30991979937924546\n",
      "dpos: 0.30991979937924546\n",
      "dpos: 0.30991979937924546\n",
      "dpos: 0.30991979937924546\n",
      "dpos: 0.30991979937924546\n",
      "dpos: 0.30991979937924546\n",
      "dpos: 0.30991979937924546\n",
      "dpos: 0.30991979937924546\n",
      "dpos: 0.30991979937924546\n",
      "dpos: 0.30991979937924546\n",
      "dpos: 0.30991979937924546\n",
      "dpos: 0.30991979937924546\n",
      "dpos: 0.30991979937924546\n",
      "dpos: 0.30991979937924546\n",
      "dpos: 0.30991979937924546\n",
      "dpos: 0.30991979937924546\n",
      "dpos: 0.30991979937924546\n",
      "dpos: 0.30991979937924546\n",
      "dpos: 0.30991979937924546\n",
      "dpos: 0.30991979937924546\n",
      "dpos: 0.30991979937924546\n",
      "dpos: 0.3098149500494685\n",
      "dpos: 0.3086060022398984\n",
      "dpos: 0.3056384258605557\n",
      "dpos: 0.30544029631875347\n",
      "dpos: 0.3082743565217405\n",
      "dpos: 0.3122477870141952\n",
      "dpos: 4.644408103030912\n",
      "dpos: 4.644408103030912\n",
      "dpos: 4.644408103030912\n",
      "dpos: 4.644408103030912\n",
      "dpos: 4.644408103030912\n",
      "dpos: 4.644408103030912\n",
      "dpos: 4.644408103030912\n",
      "dpos: 4.644408103030912\n",
      "dpos: 4.644408103030912\n",
      "dpos: 0.41871889128982615\n",
      "dpos: 0.41931976095552115\n",
      "dpos: 0.4185561011789205\n",
      "dpos: 0.41896516311986853\n",
      "dpos: 0.4188131352681526\n",
      "dpos: 0.4187795201956072\n",
      "dpos: 0.4188795651557338\n",
      "dpos: 0.4187345687061229\n",
      "dpos: 0.4188795651557338\n",
      "dpos: 0.4187795201956072\n",
      "dpos: 0.4188347315714962\n",
      "dpos: 0.4187795201956072\n",
      "dpos: 0.4188507897174553\n",
      "dpos: 0.41884795083866083\n",
      "dpos: 0.4188507897174553\n",
      "dpos: 0.4188507897174553\n",
      "dpos: 0.41884795083866083\n",
      "dpos: 0.4188507897174553\n",
      "dpos: 0.41884795083866083\n",
      "dpos: 0.4188041247822831\n",
      "dpos: 0.4041974947100504\n",
      "dpos: 0.3903794706505748\n",
      "dpos: 0.3773862119716826\n",
      "dpos: 0.365945707494623\n",
      "dpos: 0.35578603173997575\n",
      "dpos: 0.34586673929229783\n",
      "dpos: 0.336985653274736\n",
      "dpos: 0.33297785476989095\n",
      "dpos: 0.33322684672053776\n",
      "dpos: 0.33363111494512565\n",
      "dpos: 0.3334911458929035\n",
      "dpos: 0.3334054748672026\n",
      "dpos: 0.3334054748672026\n",
      "dpos: 0.3334054748672026\n",
      "dpos: 0.3334198591919591\n",
      "dpos: 0.3334198591919591\n",
      "dpos: 0.3334198591919591\n",
      "dpos: 0.33337394432269757\n",
      "dpos: 0.3334198591919591\n",
      "dpos: 0.3333926989559727\n",
      "dpos: 4.644408103030912\n",
      "dpos: 4.644408103030912\n",
      "dpos: 4.644408103030912\n",
      "dpos: 0.3334198591919591\n",
      "dpos: 4.644408103030912\n",
      "dpos: 4.644408103030912\n",
      "dpos: 4.644408103030912\n",
      "dpos: 4.644408103030912\n",
      "dpos: 4.644408103030912\n",
      "dpos: 0.3334198591919591\n",
      "dpos: 0.3334198591919591\n",
      "dpos: 0.3334198591919591\n",
      "dpos: 0.3334198591919591\n",
      "dpos: 0.3334198591919591\n",
      "dpos: 0.3334198591919591\n",
      "dpos: 0.3334198591919591\n",
      "dpos: 0.3334198591919591\n",
      "dpos: 0.3334198591919591\n",
      "dpos: 0.3334198591919591\n",
      "dpos: 0.3334198591919591\n",
      "dpos: 0.3334198591919591\n",
      "dpos: 0.3334198591919591\n",
      "dpos: 0.3334198591919591\n",
      "dpos: 0.3334198591919591\n",
      "dpos: 0.3334198591919591\n",
      "dpos: 0.3334198591919591\n",
      "dpos: 0.3334198591919591\n",
      "dpos: 0.3334198591919591\n",
      "dpos: 0.3334198591919591\n",
      "dpos: 0.3334198591919591\n",
      "dpos: 0.3334198591919591\n",
      "dpos: 0.3334198591919591\n",
      "dpos: 0.3334198591919591\n",
      "dpos: 0.3334198591919591\n",
      "dpos: 0.3334198591919591\n",
      "dpos: 0.3334198591919591\n",
      "dpos: 0.3334198591919591\n",
      "dpos: 0.3334198591919591\n",
      "dpos: 0.3334198591919591\n",
      "dpos: 0.3334198591919591\n",
      "dpos: 0.3334198591919591\n",
      "dpos: 0.3334198591919591\n",
      "dpos: 0.3334198591919591\n",
      "dpos: 0.3334198591919591\n",
      "dpos: 0.3334198591919591\n",
      "dpos: 0.3334198591919591\n",
      "dpos: 0.3334198591919591\n",
      "dpos: 0.3334198591919591\n",
      "dpos: 4.644408103030912\n",
      "dpos: 0.3334198591919591\n",
      "dpos: 4.644408103030912\n",
      "dpos: 4.644408103030912\n"
     ]
    },
    {
     "ename": "KeyboardInterrupt",
     "evalue": "",
     "output_type": "error",
     "traceback": [
      "\u001b[0;31m---------------------------------------------------------------------------\u001b[0m",
      "\u001b[0;31mKeyboardInterrupt\u001b[0m                         Traceback (most recent call last)",
      "\u001b[1;32m/home/ns/sawyer_robot_ros2/src/teleop_script/goto_posture.ipynb Cell 17\u001b[0m in \u001b[0;36m1\n\u001b[1;32m     <a href='vscode-notebook-cell:/home/ns/sawyer_robot_ros2/src/teleop_script/goto_posture.ipynb#X42sZmlsZQ%3D%3D?line=14'>15</a>\u001b[0m cmd_msg\u001b[39m.\u001b[39mvelocity \u001b[39m=\u001b[39m \u001b[39mlist\u001b[39m(qd)\n\u001b[1;32m     <a href='vscode-notebook-cell:/home/ns/sawyer_robot_ros2/src/teleop_script/goto_posture.ipynb#X42sZmlsZQ%3D%3D?line=15'>16</a>\u001b[0m cmd_pub\u001b[39m.\u001b[39mpublish(cmd_msg)\n\u001b[0;32m---> <a href='vscode-notebook-cell:/home/ns/sawyer_robot_ros2/src/teleop_script/goto_posture.ipynb#X42sZmlsZQ%3D%3D?line=16'>17</a>\u001b[0m time\u001b[39m.\u001b[39;49msleep(delay)\n",
      "\u001b[0;31mKeyboardInterrupt\u001b[0m: "
     ]
    }
   ],
   "source": [
    "cpos=np.array(ros_interface.latest_joint_states.position)\n",
    "dpos=np.linalg.norm(target_jointpos-cpos)\n",
    "\n",
    "while dpos>tol: \n",
    "    cpos=np.array(ros_interface.latest_joint_states.position)\n",
    "    dpos=np.linalg.norm(target_jointpos-cpos)\n",
    "    print('dpos:', dpos)\n",
    "\n",
    "    qd =(target_jointpos-cpos)*alpha\n",
    "\n",
    "    cmd_msg = JointCommand()\n",
    "    cmd_msg.names = robot.jointNames\n",
    "    cmd_msg.mode = cmd_msg.VELOCITY_MODE\n",
    "    cmd_msg.header.stamp = rclpy.clock.Clock().now().to_msg()\n",
    "    cmd_msg.velocity = list(qd)\n",
    "    cmd_pub.publish(cmd_msg)\n",
    "    time.sleep(delay)"
   ]
  },
  {
   "cell_type": "code",
   "execution_count": null,
   "metadata": {},
   "outputs": [],
   "source": []
  },
  {
   "cell_type": "code",
   "execution_count": 15,
   "metadata": {},
   "outputs": [
    {
     "data": {
      "text/plain": [
       "intera_core_msgs.msg.JointCommand(header=std_msgs.msg.Header(stamp=builtin_interfaces.msg.Time(sec=1694361752, nanosec=773917860), frame_id=''), mode=2, names=['right_j0', 'head_pan', 'right_j1', 'right_j2', 'right_j3', 'right_j4', 'right_j5', 'right_j6', 'right_gripper_l_finger_joint', 'right_gripper_r_finger_joint'], position=[], velocity=[-0.9211730143749999, 0.2105752278125, 0.276220735625, -1.6402664714062498, 0.8294312825000001, -0.6020133464062499, -1.4427782878125, 1.94339925125, -0.02848981125], acceleration=[], effort=[])"
      ]
     },
     "execution_count": 15,
     "metadata": {},
     "output_type": "execute_result"
    }
   ],
   "source": [
    "cmd_msg"
   ]
  },
  {
   "cell_type": "code",
   "execution_count": null,
   "metadata": {},
   "outputs": [],
   "source": []
  },
  {
   "cell_type": "code",
   "execution_count": null,
   "metadata": {},
   "outputs": [],
   "source": []
  },
  {
   "cell_type": "code",
   "execution_count": null,
   "metadata": {},
   "outputs": [],
   "source": []
  },
  {
   "cell_type": "code",
   "execution_count": null,
   "metadata": {},
   "outputs": [],
   "source": []
  },
  {
   "cell_type": "code",
   "execution_count": null,
   "metadata": {},
   "outputs": [],
   "source": []
  },
  {
   "cell_type": "code",
   "execution_count": null,
   "metadata": {},
   "outputs": [],
   "source": []
  },
  {
   "cell_type": "code",
   "execution_count": null,
   "metadata": {},
   "outputs": [],
   "source": []
  },
  {
   "cell_type": "code",
   "execution_count": null,
   "metadata": {},
   "outputs": [],
   "source": []
  },
  {
   "cell_type": "code",
   "execution_count": null,
   "metadata": {},
   "outputs": [],
   "source": []
  },
  {
   "cell_type": "code",
   "execution_count": null,
   "metadata": {},
   "outputs": [],
   "source": []
  },
  {
   "cell_type": "code",
   "execution_count": null,
   "metadata": {},
   "outputs": [],
   "source": []
  }
 ],
 "metadata": {
  "kernelspec": {
   "display_name": "Python 3",
   "language": "python",
   "name": "python3"
  },
  "language_info": {
   "codemirror_mode": {
    "name": "ipython",
    "version": 3
   },
   "file_extension": ".py",
   "mimetype": "text/x-python",
   "name": "python",
   "nbconvert_exporter": "python",
   "pygments_lexer": "ipython3",
   "version": "3.10.12"
  },
  "orig_nbformat": 4
 },
 "nbformat": 4,
 "nbformat_minor": 2
}
