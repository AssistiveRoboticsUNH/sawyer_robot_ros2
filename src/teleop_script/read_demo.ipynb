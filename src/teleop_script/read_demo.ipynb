{
 "cells": [
  {
   "cell_type": "code",
   "execution_count": 7,
   "metadata": {},
   "outputs": [
    {
     "name": "stdout",
     "output_type": "stream",
     "text": [
      "not found: \"/home/carl/sawyer_robot_ros2/install/robot_library_py/share/robot_library_py/local_setup.bash\"\n"
     ]
    }
   ],
   "source": [
    "!source /home/carl/sawyer_robot_ros2/install/setup.bash\n",
    "\n",
    "import pickle as pkl\n",
    "# from robot_library_py import *\n",
    "import rclpy\n",
    "from rclpy.node import Node\n",
    "from sensor_msgs.msg import Joy, JointState\n",
    "# from intera_core_msgs.msg import JointCommand\n",
    "\n",
    "from threading import Thread\n",
    "import time\n",
    "import numpy as np \n",
    "from std_msgs.msg import Bool\n",
    "import rotm2euler\n",
    "\n",
    "from utils_camera import MyRealSense, CVCamera\n",
    "import cv2\n",
    "from matplotlib import pyplot as plt"
   ]
  },
  {
   "cell_type": "code",
   "execution_count": 3,
   "metadata": {},
   "outputs": [
    {
     "name": "stdout",
     "output_type": "stream",
     "text": [
      "not found: \"/home/carl/sawyer_robot_ros2/install/robot_library_py/share/robot_library_py/local_setup.bash\"\n"
     ]
    }
   ],
   "source": [
    "# !source /home/carl/sawyer_robot_ros2/install/setup.bash"
   ]
  },
  {
   "cell_type": "code",
   "execution_count": 8,
   "metadata": {},
   "outputs": [],
   "source": [
    "dir='/home/carl/data_sawyer/block/'"
   ]
  },
  {
   "cell_type": "code",
   "execution_count": null,
   "metadata": {},
   "outputs": [],
   "source": [
    "# tosave['msgs']=msgs[:N]\n",
    "# tosave['imgs']=imgs[:N]\n",
    "# tosave['grips']=grips[:N]"
   ]
  },
  {
   "cell_type": "code",
   "execution_count": 15,
   "metadata": {},
   "outputs": [],
   "source": [
    "demo_name=dir+'11_09_2023_20_39_190.pkl'"
   ]
  },
  {
   "cell_type": "code",
   "execution_count": 16,
   "metadata": {},
   "outputs": [],
   "source": [
    "with open(demo_name, 'rb') as f:\n",
    "    demo = pkl.load(f)"
   ]
  },
  {
   "cell_type": "code",
   "execution_count": 17,
   "metadata": {},
   "outputs": [
    {
     "data": {
      "text/plain": [
       "dict_keys(['msgs', 'imgs', 'grips'])"
      ]
     },
     "execution_count": 17,
     "metadata": {},
     "output_type": "execute_result"
    }
   ],
   "source": [
    "demo.keys()"
   ]
  },
  {
   "cell_type": "code",
   "execution_count": 18,
   "metadata": {},
   "outputs": [],
   "source": [
    "msgs=demo['msgs']\n",
    "imgs=demo['imgs']\n",
    "grips=demo['grips']"
   ]
  },
  {
   "cell_type": "code",
   "execution_count": 19,
   "metadata": {},
   "outputs": [],
   "source": [
    "j=0\n",
    "for img in imgs:\n",
    "    image_wrist, image_front=img\n",
    "    image=np.concatenate([image_wrist, image_front], axis=1)\n",
    "    cv2.imshow('frame',image)\n",
    "    if cv2.waitKey(1) == 27: \n",
    "        print('UI closed')\n",
    "        break  # esc to quit\n",
    "    time.sleep(1/30)\n",
    "\n",
    "    j=j+1\n",
    "    if j>650:\n",
    "        break\n",
    "\n",
    "cv2.destroyAllWindows() "
   ]
  },
  {
   "cell_type": "code",
   "execution_count": null,
   "metadata": {},
   "outputs": [],
   "source": []
  },
  {
   "cell_type": "code",
   "execution_count": 8,
   "metadata": {},
   "outputs": [
    {
     "data": {
      "text/plain": [
       "'/home/ns/data_sawyer/spoon/09_10_2023_11_28'"
      ]
     },
     "execution_count": 8,
     "metadata": {},
     "output_type": "execute_result"
    }
   ],
   "source": [
    "dir='/home/carl/data_sawyer/block/'\n",
    "\n",
    "#current time as mmddhhmmss\n",
    "import datetime\n",
    "now = datetime.datetime.now()\n",
    "time_str=now.strftime(\"%m_%d_%Y_%H_%M\")\n",
    "fn=dir+time_str\n",
    "fn"
   ]
  },
  {
   "cell_type": "code",
   "execution_count": null,
   "metadata": {},
   "outputs": [],
   "source": []
  },
  {
   "cell_type": "code",
   "execution_count": null,
   "metadata": {},
   "outputs": [],
   "source": []
  },
  {
   "cell_type": "code",
   "execution_count": null,
   "metadata": {},
   "outputs": [],
   "source": []
  },
  {
   "cell_type": "code",
   "execution_count": null,
   "metadata": {},
   "outputs": [],
   "source": []
  }
 ],
 "metadata": {
  "kernelspec": {
   "display_name": "Python 3",
   "language": "python",
   "name": "python3"
  },
  "language_info": {
   "codemirror_mode": {
    "name": "ipython",
    "version": 3
   },
   "file_extension": ".py",
   "mimetype": "text/x-python",
   "name": "python",
   "nbconvert_exporter": "python",
   "pygments_lexer": "ipython3",
   "version": "3.10.12"
  },
  "orig_nbformat": 4
 },
 "nbformat": 4,
 "nbformat_minor": 2
}
